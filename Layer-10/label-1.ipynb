{
 "cells": [
  {
   "cell_type": "code",
   "execution_count": 32,
   "metadata": {},
   "outputs": [],
   "source": [
    "import pandas as pd\n",
    "from sklearn.feature_selection import VarianceThreshold\n",
    "from sklearn.ensemble import RandomForestClassifier\n",
    "from sklearn.feature_selection import mutual_info_classif\n",
    "import matplotlib.pyplot as plt\n",
    "import numpy as np\n",
    "from sklearn.metrics import accuracy_score, confusion_matrix, classification_report"
   ]
  },
  {
   "cell_type": "code",
   "execution_count": 33,
   "metadata": {},
   "outputs": [],
   "source": [
    "train_path = 'speech-based-classification-layer-10/train.csv'\n",
    "valid_path = 'speech-based-classification-layer-10/valid.csv'\n",
    "test_path = 'speech-based-classification-layer-10/test.csv'\n",
    "train = pd.read_csv(train_path)\n",
    "valid = pd.read_csv(valid_path)\n",
    "test = pd.read_csv(test_path)\n",
    "original_train = train.copy()\n",
    "original_valid = train.copy()\n",
    "original_test = test.copy()"
   ]
  },
  {
   "cell_type": "code",
   "execution_count": 34,
   "metadata": {},
   "outputs": [
    {
     "data": {
      "text/plain": [
       "feature_1        0\n",
       "feature_2        0\n",
       "feature_3        0\n",
       "feature_4        0\n",
       "feature_5        0\n",
       "              ... \n",
       "feature_768      0\n",
       "label_1          0\n",
       "label_2        480\n",
       "label_3          0\n",
       "label_4          0\n",
       "Length: 772, dtype: int64"
      ]
     },
     "execution_count": 34,
     "metadata": {},
     "output_type": "execute_result"
    }
   ],
   "source": [
    "train.isnull().sum()"
   ]
  },
  {
   "cell_type": "code",
   "execution_count": 35,
   "metadata": {},
   "outputs": [
    {
     "data": {
      "text/plain": [
       "feature_1       0\n",
       "feature_2       0\n",
       "feature_3       0\n",
       "feature_4       0\n",
       "feature_5       0\n",
       "               ..\n",
       "feature_768     0\n",
       "label_1         0\n",
       "label_2        14\n",
       "label_3         0\n",
       "label_4         0\n",
       "Length: 772, dtype: int64"
      ]
     },
     "execution_count": 35,
     "metadata": {},
     "output_type": "execute_result"
    }
   ],
   "source": [
    "valid.isnull().sum()"
   ]
  },
  {
   "cell_type": "code",
   "execution_count": 36,
   "metadata": {},
   "outputs": [],
   "source": [
    "train_features = train.iloc[:, :768]\n",
    "train_label_1 = train.iloc[:, 768]\n",
    "\n",
    "valid_features = valid.iloc[:, :768]\n",
    "valid_label_1 = valid.iloc[:, 768]\n",
    "\n",
    "test_features = test.iloc[:, 1:]"
   ]
  },
  {
   "cell_type": "markdown",
   "metadata": {},
   "source": [
    "Class Distribution Plot"
   ]
  },
  {
   "cell_type": "code",
   "execution_count": 38,
   "metadata": {},
   "outputs": [
    {
     "data": {
      "image/png": "[encoded data removed]",
      "text/plain": [
       "<Figure size 576x432 with 1 Axes>"
      ]
     },
     "metadata": {
      "needs_background": "light"
     },
     "output_type": "display_data"
    }
   ],
   "source": [
    "class_counts = train_label_1.value_counts()\n",
    "plt.figure(figsize=(8, 6))\n",
    "class_counts.plot(kind='bar', color='skyblue')\n",
    "\n",
    "plt.xlabel('Class Label')\n",
    "plt.ylabel('Count')\n",
    "plt.title('Class Distribution')\n",
    "\n",
    "\n",
    "plt.show()"
   ]
  },
  {
   "cell_type": "markdown",
   "metadata": {},
   "source": [
    "From SVM and Random Forest classifiers choosing the best classification model\n",
    "1. Stratified K Fold model is used for cross validation\n",
    "2. Default parameters of classifcation models are used\n",
    "3. Since classes are balanced accuracy score is used for the evaluation"
   ]
  },
  {
   "cell_type": "code",
   "execution_count": null,
   "metadata": {},
   "outputs": [],
   "source": [
    "import numpy as np\n",
    "from sklearn.model_selection import StratifiedKFold\n",
    "from sklearn.metrics import accuracy_score\n",
    "from sklearn.ensemble import RandomForestClassifier\n",
    "from sklearn.svm import SVC\n",
    "\n",
    "\n",
    "\n",
    "classifiers = {\n",
    "    \"Random Forest\": RandomForestClassifier(),\n",
    "    \"SVM\": SVC(),\n",
    "}\n",
    "\n",
    "\n",
    "best_model = None\n",
    "best_accuracy = 0.0\n",
    "\n",
    "\n",
    "n_splits = 5\n",
    "skf = StratifiedKFold(n_splits=n_splits)\n",
    "\n",
    "for name, clf in classifiers.items():\n",
    "    total_accuracy = 0.0\n",
    "\n",
    "    for train_index, test_index in skf.split(train_features, train_label_1):\n",
    "        X_train, X_test = train_features.iloc[train_index], train_features.iloc[test_index]\n",
    "        y_train, y_test = train_label_1[train_index], train_label_1[test_index]\n",
    "\n",
    "        clf.fit(X_train, y_train)\n",
    "        y_pred = clf.predict(X_test)\n",
    "        accuracy = accuracy_score(y_test, y_pred)\n",
    "        total_accuracy += accuracy\n",
    "\n",
    "    average_accuracy = total_accuracy / n_splits\n",
    "    print(f\"{name} - Average Accuracy: {average_accuracy}\")\n",
    "\n",
    "\n",
    "    if average_accuracy > best_accuracy:\n",
    "        best_model = clf\n",
    "        best_accuracy = average_accuracy\n",
    "\n",
    "print(f\"Best Model: {type(best_model).__name__}\")"
   ]
  },
  {
   "cell_type": "markdown",
   "metadata": {},
   "source": [
    "PCA Transformation "
   ]
  },
  {
   "cell_type": "code",
   "execution_count": 40,
   "metadata": {},
   "outputs": [],
   "source": [
    "from sklearn.decomposition import PCA\n",
    "\n",
    "def performPca(train_input, valid_input,test_input, n_components):\n",
    "    pca = PCA(n_components=n_components , svd_solver='full')\n",
    "    train_reduced = pca.fit_transform(train_input)\n",
    "    valid_reduced = pca.transform(valid_input)\n",
    "    test_reduced = pca.transform(test_input)\n",
    "    train_reduced_df = pd.DataFrame(train_reduced, columns=[f\"new_feature_{i+1}\" for i in range(train_reduced.shape[1])])\n",
    "    valid_reduced_df = pd.DataFrame(valid_reduced, columns=[f\"new_feature_{i+1}\" for i in range(valid_reduced.shape[1])])\n",
    "    test_reduced_df = pd.DataFrame(test_reduced, columns=[f\"new_feature_{i+1}\" for i in range(test_reduced.shape[1])])\n",
    "\n",
    "\n",
    "    return train_reduced_df, valid_reduced_df,test_reduced_df"
   ]
  },
  {
   "cell_type": "code",
   "execution_count": 42,
   "metadata": {},
   "outputs": [],
   "source": [
    "from sklearn.preprocessing import RobustScaler\n",
    "transformer = RobustScaler()\n",
    "scaled_train_features = transformer.fit_transform(train_features)\n",
    "scaled_valid_features = transformer.fit_transform(valid_features)\n",
    "scaled_test_features = transformer.fit_transform(test_features)"
   ]
  },
  {
   "cell_type": "code",
   "execution_count": 55,
   "metadata": {},
   "outputs": [],
   "source": [
    "train_reduced_df, valid_reduced_df,test_reduced_df = performPca(scaled_train_features, scaled_valid_features, scaled_test_features, 0.99)"
   ]
  },
  {
   "cell_type": "code",
   "execution_count": 57,
   "metadata": {},
   "outputs": [
    {
     "name": "stdout",
     "output_type": "stream",
     "text": [
      "Accuracy: 0.9533333333333334\n"
     ]
    }
   ],
   "source": [
    "model = SVC()\n",
    "model.fit(train_reduced_df, train_label_1)\n",
    "y_pred = model.predict(valid_reduced_df)\n",
    "accuracy = accuracy_score(valid_label_1, y_pred)\n",
    "print(f\"Accuracy: {accuracy}\")"
   ]
  },
  {
   "cell_type": "code",
   "execution_count": 58,
   "metadata": {},
   "outputs": [],
   "source": [
    "# 0.99 ----- > 0.9533333333333334\n",
    "# mle -------> 0.9533333333333334    767\n",
    "# 300 -------> 0.9533333333333334    300\n",
    "test_pred = model.predict(test_reduced_df)"
   ]
  },
  {
   "cell_type": "code",
   "execution_count": 59,
   "metadata": {},
   "outputs": [],
   "source": [
    "#Write to file\n",
    "test_pred_df = pd.DataFrame(test_pred, columns=['label_1'])\n",
    "test_pred_df.to_csv('predictions/label_1.csv', index=False)"
   ]
  },
  {
   "cell_type": "markdown",
   "metadata": {},
   "source": [
    "# Hyperparameter tuning"
   ]
  },
  {
   "cell_type": "code",
   "execution_count": null,
   "metadata": {},
   "outputs": [],
   "source": [
    "from sklearn.model_selection import GridSearchCV\n",
    "from sklearn.svm import SVC\n",
    "\n",
    "# defining parameter range\n",
    "param_grid = {'C': [0.1, 1, 10], \n",
    "              'gamma': [1, 0.1, 0.01, 0.001],\n",
    "              'kernel': ['rbf' , 'linear', 'poly']} \n",
    "  \n",
    "grid = GridSearchCV(SVC(), param_grid, refit = True, verbose = 3)\n",
    "  \n",
    "# fitting the model for grid search\n",
    "grid.fit(train_reduced_df, train_label_1)"
   ]
  },
  {
   "cell_type": "code",
   "execution_count": 60,
   "metadata": {},
   "outputs": [
    {
     "name": "stdout",
     "output_type": "stream",
     "text": [
      "Accuracy: 0.964\n"
     ]
    }
   ],
   "source": [
    "from sklearn.svm import SVC\n",
    "\n",
    "fin_model = SVC(C= 0.1, gamma = 1, kernel = 'linear')\n",
    "fin_model.fit(train_reduced_df, train_label_1)\n",
    "fin_y_pred = fin_model.predict(valid_reduced_df)\n",
    "accuracy = accuracy_score(valid_label_1, fin_y_pred)\n",
    "print(f\"Accuracy: {accuracy}\")"
   ]
  },
  {
   "cell_type": "code",
   "execution_count": 61,
   "metadata": {},
   "outputs": [],
   "source": [
    "fin_test_pred = fin_model.predict(test_reduced_df)"
   ]
  },
  {
   "cell_type": "code",
   "execution_count": 62,
   "metadata": {},
   "outputs": [],
   "source": [
    "#Write to file\n",
    "fin_test_pred_df = pd.DataFrame(fin_test_pred, columns=['label_1'])\n",
    "fin_test_pred_df.to_csv('predictions/label_1_1.csv', index=False)"
   ]
  }
 ],
 "metadata": {
  "kernelspec": {
   "display_name": "Python 3",
   "language": "python",
   "name": "python3"
  },
  "language_info": {
   "codemirror_mode": {
    "name": "ipython",
    "version": 3
   },
   "file_extension": ".py",
   "mimetype": "text/x-python",
   "name": "python",
   "nbconvert_exporter": "python",
   "pygments_lexer": "ipython3",
   "version": "3.10.4"
  },
  "orig_nbformat": 4
 },
 "nbformat": 4,
 "nbformat_minor": 2
}
