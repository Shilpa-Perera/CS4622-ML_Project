{
 "cells": [
  {
   "cell_type": "code",
   "execution_count": 1,
   "metadata": {},
   "outputs": [],
   "source": [
    "import pandas as pd\n",
    "from sklearn.feature_selection import VarianceThreshold\n",
    "from sklearn.ensemble import RandomForestClassifier\n",
    "from sklearn.feature_selection import mutual_info_classif\n",
    "import matplotlib.pyplot as plt\n",
    "import numpy as np\n",
    "from sklearn.metrics import accuracy_score, confusion_matrix, classification_report"
   ]
  },
  {
   "cell_type": "code",
   "execution_count": 2,
   "metadata": {},
   "outputs": [],
   "source": [
    "train_path = 'speech-based-classification-layer-9/train.csv'\n",
    "valid_path = 'speech-based-classification-layer-9/valid.csv'\n",
    "test_path = 'speech-based-classification-layer-9/test.csv'\n",
    "train = pd.read_csv(train_path)\n",
    "valid = pd.read_csv(valid_path)\n",
    "test = pd.read_csv(test_path)\n",
    "original_train = train.copy()\n",
    "original_valid = train.copy()\n",
    "original_test = test.copy()"
   ]
  },
  {
   "cell_type": "markdown",
   "metadata": {},
   "source": [
    "Data Imputing"
   ]
  },
  {
   "cell_type": "code",
   "execution_count": 3,
   "metadata": {},
   "outputs": [
    {
     "data": {
      "text/plain": [
       "feature_1        0\n",
       "feature_2        0\n",
       "feature_3        0\n",
       "feature_4        0\n",
       "feature_5        0\n",
       "              ... \n",
       "feature_768      0\n",
       "label_1          0\n",
       "label_2        480\n",
       "label_3          0\n",
       "label_4          0\n",
       "Length: 772, dtype: int64"
      ]
     },
     "execution_count": 3,
     "metadata": {},
     "output_type": "execute_result"
    }
   ],
   "source": [
    "train.isnull().sum()"
   ]
  },
  {
   "cell_type": "markdown",
   "metadata": {},
   "source": [
    "Filling missing values with mean in train data set"
   ]
  },
  {
   "cell_type": "code",
   "execution_count": 4,
   "metadata": {},
   "outputs": [
    {
     "data": {
      "text/html": [
       "<div>\n",
       "<style scoped>\n",
       "    .dataframe tbody tr th:only-of-type {\n",
       "        vertical-align: middle;\n",
       "    }\n",
       "\n",
       "    .dataframe tbody tr th {\n",
       "        vertical-align: top;\n",
       "    }\n",
       "\n",
       "    .dataframe thead th {\n",
       "        text-align: right;\n",
       "    }\n",
       "</style>\n",
       "<table border=\"1\" class=\"dataframe\">\n",
       "  <thead>\n",
       "    <tr style=\"text-align: right;\">\n",
       "      <th></th>\n",
       "      <th>feature_1</th>\n",
       "      <th>feature_2</th>\n",
       "      <th>feature_3</th>\n",
       "      <th>feature_4</th>\n",
       "      <th>feature_5</th>\n",
       "      <th>feature_6</th>\n",
       "      <th>feature_7</th>\n",
       "      <th>feature_8</th>\n",
       "      <th>feature_9</th>\n",
       "      <th>feature_10</th>\n",
       "      <th>...</th>\n",
       "      <th>feature_763</th>\n",
       "      <th>feature_764</th>\n",
       "      <th>feature_765</th>\n",
       "      <th>feature_766</th>\n",
       "      <th>feature_767</th>\n",
       "      <th>feature_768</th>\n",
       "      <th>label_1</th>\n",
       "      <th>label_2</th>\n",
       "      <th>label_3</th>\n",
       "      <th>label_4</th>\n",
       "    </tr>\n",
       "  </thead>\n",
       "  <tbody>\n",
       "    <tr>\n",
       "      <th>0</th>\n",
       "      <td>0.019301</td>\n",
       "      <td>0.059756</td>\n",
       "      <td>0.081375</td>\n",
       "      <td>0.057481</td>\n",
       "      <td>-0.068440</td>\n",
       "      <td>-0.165913</td>\n",
       "      <td>0.035643</td>\n",
       "      <td>-0.091138</td>\n",
       "      <td>0.021688</td>\n",
       "      <td>0.057158</td>\n",
       "      <td>...</td>\n",
       "      <td>-0.035576</td>\n",
       "      <td>0.127319</td>\n",
       "      <td>0.098128</td>\n",
       "      <td>-0.058787</td>\n",
       "      <td>0.100971</td>\n",
       "      <td>-0.047754</td>\n",
       "      <td>45</td>\n",
       "      <td>27</td>\n",
       "      <td>1</td>\n",
       "      <td>6</td>\n",
       "    </tr>\n",
       "    <tr>\n",
       "      <th>1</th>\n",
       "      <td>0.049741</td>\n",
       "      <td>0.090030</td>\n",
       "      <td>0.035118</td>\n",
       "      <td>-0.013676</td>\n",
       "      <td>-0.194317</td>\n",
       "      <td>-0.101763</td>\n",
       "      <td>0.085875</td>\n",
       "      <td>-0.081317</td>\n",
       "      <td>0.112418</td>\n",
       "      <td>0.120523</td>\n",
       "      <td>...</td>\n",
       "      <td>0.020538</td>\n",
       "      <td>0.058968</td>\n",
       "      <td>0.029803</td>\n",
       "      <td>0.111324</td>\n",
       "      <td>0.036727</td>\n",
       "      <td>0.031927</td>\n",
       "      <td>45</td>\n",
       "      <td>27</td>\n",
       "      <td>1</td>\n",
       "      <td>6</td>\n",
       "    </tr>\n",
       "    <tr>\n",
       "      <th>2</th>\n",
       "      <td>0.019212</td>\n",
       "      <td>0.087779</td>\n",
       "      <td>0.093907</td>\n",
       "      <td>-0.033738</td>\n",
       "      <td>-0.141409</td>\n",
       "      <td>-0.062881</td>\n",
       "      <td>-0.071402</td>\n",
       "      <td>-0.006599</td>\n",
       "      <td>0.020372</td>\n",
       "      <td>-0.027777</td>\n",
       "      <td>...</td>\n",
       "      <td>0.119645</td>\n",
       "      <td>-0.040861</td>\n",
       "      <td>0.000548</td>\n",
       "      <td>-0.061003</td>\n",
       "      <td>-0.042450</td>\n",
       "      <td>0.063340</td>\n",
       "      <td>45</td>\n",
       "      <td>27</td>\n",
       "      <td>1</td>\n",
       "      <td>6</td>\n",
       "    </tr>\n",
       "    <tr>\n",
       "      <th>3</th>\n",
       "      <td>0.070283</td>\n",
       "      <td>0.049040</td>\n",
       "      <td>0.042126</td>\n",
       "      <td>0.122637</td>\n",
       "      <td>-0.056964</td>\n",
       "      <td>-0.113700</td>\n",
       "      <td>0.108454</td>\n",
       "      <td>0.051336</td>\n",
       "      <td>0.086610</td>\n",
       "      <td>0.141578</td>\n",
       "      <td>...</td>\n",
       "      <td>-0.124494</td>\n",
       "      <td>-0.169225</td>\n",
       "      <td>-0.046391</td>\n",
       "      <td>0.148787</td>\n",
       "      <td>0.014616</td>\n",
       "      <td>-0.140644</td>\n",
       "      <td>45</td>\n",
       "      <td>27</td>\n",
       "      <td>1</td>\n",
       "      <td>6</td>\n",
       "    </tr>\n",
       "    <tr>\n",
       "      <th>4</th>\n",
       "      <td>0.028864</td>\n",
       "      <td>0.165634</td>\n",
       "      <td>0.016302</td>\n",
       "      <td>0.036117</td>\n",
       "      <td>-0.028871</td>\n",
       "      <td>-0.147748</td>\n",
       "      <td>0.053180</td>\n",
       "      <td>0.025071</td>\n",
       "      <td>-0.004200</td>\n",
       "      <td>-0.022183</td>\n",
       "      <td>...</td>\n",
       "      <td>-0.124862</td>\n",
       "      <td>0.044907</td>\n",
       "      <td>0.084005</td>\n",
       "      <td>-0.038450</td>\n",
       "      <td>0.084371</td>\n",
       "      <td>-0.072146</td>\n",
       "      <td>45</td>\n",
       "      <td>27</td>\n",
       "      <td>1</td>\n",
       "      <td>6</td>\n",
       "    </tr>\n",
       "    <tr>\n",
       "      <th>...</th>\n",
       "      <td>...</td>\n",
       "      <td>...</td>\n",
       "      <td>...</td>\n",
       "      <td>...</td>\n",
       "      <td>...</td>\n",
       "      <td>...</td>\n",
       "      <td>...</td>\n",
       "      <td>...</td>\n",
       "      <td>...</td>\n",
       "      <td>...</td>\n",
       "      <td>...</td>\n",
       "      <td>...</td>\n",
       "      <td>...</td>\n",
       "      <td>...</td>\n",
       "      <td>...</td>\n",
       "      <td>...</td>\n",
       "      <td>...</td>\n",
       "      <td>...</td>\n",
       "      <td>...</td>\n",
       "      <td>...</td>\n",
       "      <td>...</td>\n",
       "    </tr>\n",
       "    <tr>\n",
       "      <th>28515</th>\n",
       "      <td>-0.041520</td>\n",
       "      <td>0.302638</td>\n",
       "      <td>0.004811</td>\n",
       "      <td>0.211441</td>\n",
       "      <td>-0.249326</td>\n",
       "      <td>-0.113395</td>\n",
       "      <td>-0.146776</td>\n",
       "      <td>-0.146222</td>\n",
       "      <td>-0.040344</td>\n",
       "      <td>-0.124016</td>\n",
       "      <td>...</td>\n",
       "      <td>0.290069</td>\n",
       "      <td>-0.223051</td>\n",
       "      <td>-0.053575</td>\n",
       "      <td>-0.230222</td>\n",
       "      <td>-0.451943</td>\n",
       "      <td>0.117817</td>\n",
       "      <td>39</td>\n",
       "      <td>29</td>\n",
       "      <td>1</td>\n",
       "      <td>6</td>\n",
       "    </tr>\n",
       "    <tr>\n",
       "      <th>28516</th>\n",
       "      <td>-0.056359</td>\n",
       "      <td>0.061850</td>\n",
       "      <td>0.051865</td>\n",
       "      <td>0.032107</td>\n",
       "      <td>-0.005930</td>\n",
       "      <td>-0.040313</td>\n",
       "      <td>0.117453</td>\n",
       "      <td>-0.067553</td>\n",
       "      <td>0.045004</td>\n",
       "      <td>0.035735</td>\n",
       "      <td>...</td>\n",
       "      <td>0.004518</td>\n",
       "      <td>0.035248</td>\n",
       "      <td>-0.047345</td>\n",
       "      <td>-0.006539</td>\n",
       "      <td>-0.025633</td>\n",
       "      <td>0.002474</td>\n",
       "      <td>39</td>\n",
       "      <td>29</td>\n",
       "      <td>1</td>\n",
       "      <td>6</td>\n",
       "    </tr>\n",
       "    <tr>\n",
       "      <th>28517</th>\n",
       "      <td>0.019361</td>\n",
       "      <td>0.148111</td>\n",
       "      <td>0.093434</td>\n",
       "      <td>0.011795</td>\n",
       "      <td>-0.074029</td>\n",
       "      <td>-0.077628</td>\n",
       "      <td>0.049933</td>\n",
       "      <td>-0.096354</td>\n",
       "      <td>0.138556</td>\n",
       "      <td>0.130414</td>\n",
       "      <td>...</td>\n",
       "      <td>0.014918</td>\n",
       "      <td>0.015676</td>\n",
       "      <td>-0.033608</td>\n",
       "      <td>0.068212</td>\n",
       "      <td>0.049871</td>\n",
       "      <td>-0.027607</td>\n",
       "      <td>39</td>\n",
       "      <td>29</td>\n",
       "      <td>1</td>\n",
       "      <td>6</td>\n",
       "    </tr>\n",
       "    <tr>\n",
       "      <th>28518</th>\n",
       "      <td>-0.043644</td>\n",
       "      <td>0.084073</td>\n",
       "      <td>0.074749</td>\n",
       "      <td>0.091776</td>\n",
       "      <td>-0.090782</td>\n",
       "      <td>-0.163187</td>\n",
       "      <td>-0.012568</td>\n",
       "      <td>-0.051021</td>\n",
       "      <td>0.038726</td>\n",
       "      <td>0.011009</td>\n",
       "      <td>...</td>\n",
       "      <td>-0.098420</td>\n",
       "      <td>0.113067</td>\n",
       "      <td>0.028218</td>\n",
       "      <td>0.036682</td>\n",
       "      <td>0.030056</td>\n",
       "      <td>-0.084346</td>\n",
       "      <td>39</td>\n",
       "      <td>29</td>\n",
       "      <td>1</td>\n",
       "      <td>6</td>\n",
       "    </tr>\n",
       "    <tr>\n",
       "      <th>28519</th>\n",
       "      <td>-0.039625</td>\n",
       "      <td>0.159638</td>\n",
       "      <td>0.042608</td>\n",
       "      <td>0.046212</td>\n",
       "      <td>-0.025058</td>\n",
       "      <td>-0.143171</td>\n",
       "      <td>0.111391</td>\n",
       "      <td>-0.109869</td>\n",
       "      <td>0.020852</td>\n",
       "      <td>0.152014</td>\n",
       "      <td>...</td>\n",
       "      <td>-0.000068</td>\n",
       "      <td>0.111601</td>\n",
       "      <td>-0.065572</td>\n",
       "      <td>0.155703</td>\n",
       "      <td>-0.016872</td>\n",
       "      <td>-0.020940</td>\n",
       "      <td>39</td>\n",
       "      <td>29</td>\n",
       "      <td>1</td>\n",
       "      <td>6</td>\n",
       "    </tr>\n",
       "  </tbody>\n",
       "</table>\n",
       "<p>28520 rows × 772 columns</p>\n",
       "</div>"
      ],
      "text/plain": [
       "       feature_1  feature_2  feature_3  feature_4  feature_5  feature_6  \\\n",
       "0       0.019301   0.059756   0.081375   0.057481  -0.068440  -0.165913   \n",
       "1       0.049741   0.090030   0.035118  -0.013676  -0.194317  -0.101763   \n",
       "2       0.019212   0.087779   0.093907  -0.033738  -0.141409  -0.062881   \n",
       "3       0.070283   0.049040   0.042126   0.122637  -0.056964  -0.113700   \n",
       "4       0.028864   0.165634   0.016302   0.036117  -0.028871  -0.147748   \n",
       "...          ...        ...        ...        ...        ...        ...   \n",
       "28515  -0.041520   0.302638   0.004811   0.211441  -0.249326  -0.113395   \n",
       "28516  -0.056359   0.061850   0.051865   0.032107  -0.005930  -0.040313   \n",
       "28517   0.019361   0.148111   0.093434   0.011795  -0.074029  -0.077628   \n",
       "28518  -0.043644   0.084073   0.074749   0.091776  -0.090782  -0.163187   \n",
       "28519  -0.039625   0.159638   0.042608   0.046212  -0.025058  -0.143171   \n",
       "\n",
       "       feature_7  feature_8  feature_9  feature_10  ...  feature_763  \\\n",
       "0       0.035643  -0.091138   0.021688    0.057158  ...    -0.035576   \n",
       "1       0.085875  -0.081317   0.112418    0.120523  ...     0.020538   \n",
       "2      -0.071402  -0.006599   0.020372   -0.027777  ...     0.119645   \n",
       "3       0.108454   0.051336   0.086610    0.141578  ...    -0.124494   \n",
       "4       0.053180   0.025071  -0.004200   -0.022183  ...    -0.124862   \n",
       "...          ...        ...        ...         ...  ...          ...   \n",
       "28515  -0.146776  -0.146222  -0.040344   -0.124016  ...     0.290069   \n",
       "28516   0.117453  -0.067553   0.045004    0.035735  ...     0.004518   \n",
       "28517   0.049933  -0.096354   0.138556    0.130414  ...     0.014918   \n",
       "28518  -0.012568  -0.051021   0.038726    0.011009  ...    -0.098420   \n",
       "28519   0.111391  -0.109869   0.020852    0.152014  ...    -0.000068   \n",
       "\n",
       "       feature_764  feature_765  feature_766  feature_767  feature_768  \\\n",
       "0         0.127319     0.098128    -0.058787     0.100971    -0.047754   \n",
       "1         0.058968     0.029803     0.111324     0.036727     0.031927   \n",
       "2        -0.040861     0.000548    -0.061003    -0.042450     0.063340   \n",
       "3        -0.169225    -0.046391     0.148787     0.014616    -0.140644   \n",
       "4         0.044907     0.084005    -0.038450     0.084371    -0.072146   \n",
       "...            ...          ...          ...          ...          ...   \n",
       "28515    -0.223051    -0.053575    -0.230222    -0.451943     0.117817   \n",
       "28516     0.035248    -0.047345    -0.006539    -0.025633     0.002474   \n",
       "28517     0.015676    -0.033608     0.068212     0.049871    -0.027607   \n",
       "28518     0.113067     0.028218     0.036682     0.030056    -0.084346   \n",
       "28519     0.111601    -0.065572     0.155703    -0.016872    -0.020940   \n",
       "\n",
       "       label_1  label_2  label_3  label_4  \n",
       "0           45       27        1        6  \n",
       "1           45       27        1        6  \n",
       "2           45       27        1        6  \n",
       "3           45       27        1        6  \n",
       "4           45       27        1        6  \n",
       "...        ...      ...      ...      ...  \n",
       "28515       39       29        1        6  \n",
       "28516       39       29        1        6  \n",
       "28517       39       29        1        6  \n",
       "28518       39       29        1        6  \n",
       "28519       39       29        1        6  \n",
       "\n",
       "[28520 rows x 772 columns]"
      ]
     },
     "execution_count": 4,
     "metadata": {},
     "output_type": "execute_result"
    }
   ],
   "source": [
    "mean_age = int(train['label_2'].mean())\n",
    "train['label_2'].fillna(mean_age, inplace=True)\n",
    "train['label_2'] = train['label_2'].astype(int)\n",
    "train"
   ]
  },
  {
   "cell_type": "code",
   "execution_count": 5,
   "metadata": {},
   "outputs": [
    {
     "data": {
      "text/plain": [
       "feature_1       0\n",
       "feature_2       0\n",
       "feature_3       0\n",
       "feature_4       0\n",
       "feature_5       0\n",
       "               ..\n",
       "feature_768     0\n",
       "label_1         0\n",
       "label_2        14\n",
       "label_3         0\n",
       "label_4         0\n",
       "Length: 772, dtype: int64"
      ]
     },
     "execution_count": 5,
     "metadata": {},
     "output_type": "execute_result"
    }
   ],
   "source": [
    "valid.isnull().sum()"
   ]
  },
  {
   "cell_type": "markdown",
   "metadata": {},
   "source": [
    "Filling missing values with mean in valid dataset"
   ]
  },
  {
   "cell_type": "code",
   "execution_count": 6,
   "metadata": {},
   "outputs": [
    {
     "data": {
      "text/html": [
       "<div>\n",
       "<style scoped>\n",
       "    .dataframe tbody tr th:only-of-type {\n",
       "        vertical-align: middle;\n",
       "    }\n",
       "\n",
       "    .dataframe tbody tr th {\n",
       "        vertical-align: top;\n",
       "    }\n",
       "\n",
       "    .dataframe thead th {\n",
       "        text-align: right;\n",
       "    }\n",
       "</style>\n",
       "<table border=\"1\" class=\"dataframe\">\n",
       "  <thead>\n",
       "    <tr style=\"text-align: right;\">\n",
       "      <th></th>\n",
       "      <th>feature_1</th>\n",
       "      <th>feature_2</th>\n",
       "      <th>feature_3</th>\n",
       "      <th>feature_4</th>\n",
       "      <th>feature_5</th>\n",
       "      <th>feature_6</th>\n",
       "      <th>feature_7</th>\n",
       "      <th>feature_8</th>\n",
       "      <th>feature_9</th>\n",
       "      <th>feature_10</th>\n",
       "      <th>...</th>\n",
       "      <th>feature_763</th>\n",
       "      <th>feature_764</th>\n",
       "      <th>feature_765</th>\n",
       "      <th>feature_766</th>\n",
       "      <th>feature_767</th>\n",
       "      <th>feature_768</th>\n",
       "      <th>label_1</th>\n",
       "      <th>label_2</th>\n",
       "      <th>label_3</th>\n",
       "      <th>label_4</th>\n",
       "    </tr>\n",
       "  </thead>\n",
       "  <tbody>\n",
       "    <tr>\n",
       "      <th>0</th>\n",
       "      <td>-0.130454</td>\n",
       "      <td>0.103857</td>\n",
       "      <td>0.130866</td>\n",
       "      <td>-0.036366</td>\n",
       "      <td>-0.152212</td>\n",
       "      <td>-0.072316</td>\n",
       "      <td>-0.041838</td>\n",
       "      <td>-0.019596</td>\n",
       "      <td>0.038727</td>\n",
       "      <td>0.022496</td>\n",
       "      <td>...</td>\n",
       "      <td>0.129246</td>\n",
       "      <td>0.018913</td>\n",
       "      <td>0.013387</td>\n",
       "      <td>-0.054259</td>\n",
       "      <td>0.006282</td>\n",
       "      <td>0.049646</td>\n",
       "      <td>45</td>\n",
       "      <td>27</td>\n",
       "      <td>1</td>\n",
       "      <td>6</td>\n",
       "    </tr>\n",
       "    <tr>\n",
       "      <th>1</th>\n",
       "      <td>0.019179</td>\n",
       "      <td>0.104888</td>\n",
       "      <td>0.079487</td>\n",
       "      <td>0.005187</td>\n",
       "      <td>-0.134111</td>\n",
       "      <td>-0.109271</td>\n",
       "      <td>0.054558</td>\n",
       "      <td>-0.083966</td>\n",
       "      <td>-0.000091</td>\n",
       "      <td>0.083015</td>\n",
       "      <td>...</td>\n",
       "      <td>-0.031823</td>\n",
       "      <td>0.061069</td>\n",
       "      <td>0.036411</td>\n",
       "      <td>0.101357</td>\n",
       "      <td>0.088504</td>\n",
       "      <td>0.008192</td>\n",
       "      <td>45</td>\n",
       "      <td>27</td>\n",
       "      <td>1</td>\n",
       "      <td>6</td>\n",
       "    </tr>\n",
       "    <tr>\n",
       "      <th>2</th>\n",
       "      <td>-0.028485</td>\n",
       "      <td>0.051889</td>\n",
       "      <td>0.033343</td>\n",
       "      <td>-0.029115</td>\n",
       "      <td>-0.091265</td>\n",
       "      <td>-0.038653</td>\n",
       "      <td>0.113460</td>\n",
       "      <td>-0.057983</td>\n",
       "      <td>0.128808</td>\n",
       "      <td>0.062455</td>\n",
       "      <td>...</td>\n",
       "      <td>-0.033106</td>\n",
       "      <td>-0.007366</td>\n",
       "      <td>-0.027673</td>\n",
       "      <td>0.052090</td>\n",
       "      <td>0.044097</td>\n",
       "      <td>0.054422</td>\n",
       "      <td>45</td>\n",
       "      <td>27</td>\n",
       "      <td>1</td>\n",
       "      <td>6</td>\n",
       "    </tr>\n",
       "    <tr>\n",
       "      <th>3</th>\n",
       "      <td>-0.078959</td>\n",
       "      <td>0.082325</td>\n",
       "      <td>0.068852</td>\n",
       "      <td>-0.028885</td>\n",
       "      <td>-0.146059</td>\n",
       "      <td>-0.071453</td>\n",
       "      <td>-0.028955</td>\n",
       "      <td>0.031253</td>\n",
       "      <td>0.034923</td>\n",
       "      <td>0.019338</td>\n",
       "      <td>...</td>\n",
       "      <td>0.164456</td>\n",
       "      <td>-0.025891</td>\n",
       "      <td>0.037993</td>\n",
       "      <td>0.012060</td>\n",
       "      <td>-0.044266</td>\n",
       "      <td>0.045405</td>\n",
       "      <td>45</td>\n",
       "      <td>27</td>\n",
       "      <td>1</td>\n",
       "      <td>6</td>\n",
       "    </tr>\n",
       "    <tr>\n",
       "      <th>4</th>\n",
       "      <td>0.001748</td>\n",
       "      <td>0.050968</td>\n",
       "      <td>-0.034524</td>\n",
       "      <td>0.074153</td>\n",
       "      <td>0.063857</td>\n",
       "      <td>-0.133338</td>\n",
       "      <td>0.102604</td>\n",
       "      <td>-0.031676</td>\n",
       "      <td>0.010629</td>\n",
       "      <td>-0.018684</td>\n",
       "      <td>...</td>\n",
       "      <td>-0.102749</td>\n",
       "      <td>0.022433</td>\n",
       "      <td>0.018421</td>\n",
       "      <td>0.086064</td>\n",
       "      <td>0.075351</td>\n",
       "      <td>-0.067089</td>\n",
       "      <td>45</td>\n",
       "      <td>27</td>\n",
       "      <td>1</td>\n",
       "      <td>6</td>\n",
       "    </tr>\n",
       "    <tr>\n",
       "      <th>...</th>\n",
       "      <td>...</td>\n",
       "      <td>...</td>\n",
       "      <td>...</td>\n",
       "      <td>...</td>\n",
       "      <td>...</td>\n",
       "      <td>...</td>\n",
       "      <td>...</td>\n",
       "      <td>...</td>\n",
       "      <td>...</td>\n",
       "      <td>...</td>\n",
       "      <td>...</td>\n",
       "      <td>...</td>\n",
       "      <td>...</td>\n",
       "      <td>...</td>\n",
       "      <td>...</td>\n",
       "      <td>...</td>\n",
       "      <td>...</td>\n",
       "      <td>...</td>\n",
       "      <td>...</td>\n",
       "      <td>...</td>\n",
       "      <td>...</td>\n",
       "    </tr>\n",
       "    <tr>\n",
       "      <th>745</th>\n",
       "      <td>-0.015146</td>\n",
       "      <td>0.075347</td>\n",
       "      <td>-0.067940</td>\n",
       "      <td>0.018324</td>\n",
       "      <td>-0.009130</td>\n",
       "      <td>-0.078199</td>\n",
       "      <td>0.019046</td>\n",
       "      <td>0.054832</td>\n",
       "      <td>0.057062</td>\n",
       "      <td>-0.041307</td>\n",
       "      <td>...</td>\n",
       "      <td>-0.037656</td>\n",
       "      <td>0.014558</td>\n",
       "      <td>-0.006257</td>\n",
       "      <td>0.114661</td>\n",
       "      <td>-0.020831</td>\n",
       "      <td>0.043870</td>\n",
       "      <td>39</td>\n",
       "      <td>29</td>\n",
       "      <td>1</td>\n",
       "      <td>6</td>\n",
       "    </tr>\n",
       "    <tr>\n",
       "      <th>746</th>\n",
       "      <td>-0.093367</td>\n",
       "      <td>0.090779</td>\n",
       "      <td>-0.014720</td>\n",
       "      <td>0.060278</td>\n",
       "      <td>-0.054997</td>\n",
       "      <td>0.012507</td>\n",
       "      <td>0.138347</td>\n",
       "      <td>0.064434</td>\n",
       "      <td>0.021669</td>\n",
       "      <td>0.038423</td>\n",
       "      <td>...</td>\n",
       "      <td>-0.102469</td>\n",
       "      <td>-0.012509</td>\n",
       "      <td>-0.024472</td>\n",
       "      <td>-0.082420</td>\n",
       "      <td>-0.018768</td>\n",
       "      <td>-0.091912</td>\n",
       "      <td>39</td>\n",
       "      <td>29</td>\n",
       "      <td>1</td>\n",
       "      <td>6</td>\n",
       "    </tr>\n",
       "    <tr>\n",
       "      <th>747</th>\n",
       "      <td>0.036313</td>\n",
       "      <td>0.053569</td>\n",
       "      <td>-0.040507</td>\n",
       "      <td>0.084671</td>\n",
       "      <td>-0.047545</td>\n",
       "      <td>-0.127989</td>\n",
       "      <td>0.048077</td>\n",
       "      <td>0.038251</td>\n",
       "      <td>0.058703</td>\n",
       "      <td>0.012898</td>\n",
       "      <td>...</td>\n",
       "      <td>-0.139285</td>\n",
       "      <td>-0.020544</td>\n",
       "      <td>-0.086482</td>\n",
       "      <td>0.202496</td>\n",
       "      <td>-0.089369</td>\n",
       "      <td>-0.052960</td>\n",
       "      <td>39</td>\n",
       "      <td>29</td>\n",
       "      <td>1</td>\n",
       "      <td>6</td>\n",
       "    </tr>\n",
       "    <tr>\n",
       "      <th>748</th>\n",
       "      <td>0.002803</td>\n",
       "      <td>0.127188</td>\n",
       "      <td>0.091111</td>\n",
       "      <td>-0.024576</td>\n",
       "      <td>-0.044046</td>\n",
       "      <td>-0.065907</td>\n",
       "      <td>-0.019063</td>\n",
       "      <td>-0.062951</td>\n",
       "      <td>0.066077</td>\n",
       "      <td>0.058489</td>\n",
       "      <td>...</td>\n",
       "      <td>0.055279</td>\n",
       "      <td>-0.014534</td>\n",
       "      <td>0.014749</td>\n",
       "      <td>0.017866</td>\n",
       "      <td>-0.008768</td>\n",
       "      <td>-0.017424</td>\n",
       "      <td>39</td>\n",
       "      <td>29</td>\n",
       "      <td>1</td>\n",
       "      <td>6</td>\n",
       "    </tr>\n",
       "    <tr>\n",
       "      <th>749</th>\n",
       "      <td>0.007929</td>\n",
       "      <td>0.087711</td>\n",
       "      <td>0.077855</td>\n",
       "      <td>0.104332</td>\n",
       "      <td>-0.095509</td>\n",
       "      <td>-0.124483</td>\n",
       "      <td>-0.045992</td>\n",
       "      <td>-0.021891</td>\n",
       "      <td>0.083542</td>\n",
       "      <td>-0.006199</td>\n",
       "      <td>...</td>\n",
       "      <td>-0.075926</td>\n",
       "      <td>0.096852</td>\n",
       "      <td>0.014226</td>\n",
       "      <td>-0.003264</td>\n",
       "      <td>0.047408</td>\n",
       "      <td>0.016309</td>\n",
       "      <td>39</td>\n",
       "      <td>29</td>\n",
       "      <td>1</td>\n",
       "      <td>6</td>\n",
       "    </tr>\n",
       "  </tbody>\n",
       "</table>\n",
       "<p>750 rows × 772 columns</p>\n",
       "</div>"
      ],
      "text/plain": [
       "     feature_1  feature_2  feature_3  feature_4  feature_5  feature_6  \\\n",
       "0    -0.130454   0.103857   0.130866  -0.036366  -0.152212  -0.072316   \n",
       "1     0.019179   0.104888   0.079487   0.005187  -0.134111  -0.109271   \n",
       "2    -0.028485   0.051889   0.033343  -0.029115  -0.091265  -0.038653   \n",
       "3    -0.078959   0.082325   0.068852  -0.028885  -0.146059  -0.071453   \n",
       "4     0.001748   0.050968  -0.034524   0.074153   0.063857  -0.133338   \n",
       "..         ...        ...        ...        ...        ...        ...   \n",
       "745  -0.015146   0.075347  -0.067940   0.018324  -0.009130  -0.078199   \n",
       "746  -0.093367   0.090779  -0.014720   0.060278  -0.054997   0.012507   \n",
       "747   0.036313   0.053569  -0.040507   0.084671  -0.047545  -0.127989   \n",
       "748   0.002803   0.127188   0.091111  -0.024576  -0.044046  -0.065907   \n",
       "749   0.007929   0.087711   0.077855   0.104332  -0.095509  -0.124483   \n",
       "\n",
       "     feature_7  feature_8  feature_9  feature_10  ...  feature_763  \\\n",
       "0    -0.041838  -0.019596   0.038727    0.022496  ...     0.129246   \n",
       "1     0.054558  -0.083966  -0.000091    0.083015  ...    -0.031823   \n",
       "2     0.113460  -0.057983   0.128808    0.062455  ...    -0.033106   \n",
       "3    -0.028955   0.031253   0.034923    0.019338  ...     0.164456   \n",
       "4     0.102604  -0.031676   0.010629   -0.018684  ...    -0.102749   \n",
       "..         ...        ...        ...         ...  ...          ...   \n",
       "745   0.019046   0.054832   0.057062   -0.041307  ...    -0.037656   \n",
       "746   0.138347   0.064434   0.021669    0.038423  ...    -0.102469   \n",
       "747   0.048077   0.038251   0.058703    0.012898  ...    -0.139285   \n",
       "748  -0.019063  -0.062951   0.066077    0.058489  ...     0.055279   \n",
       "749  -0.045992  -0.021891   0.083542   -0.006199  ...    -0.075926   \n",
       "\n",
       "     feature_764  feature_765  feature_766  feature_767  feature_768  label_1  \\\n",
       "0       0.018913     0.013387    -0.054259     0.006282     0.049646       45   \n",
       "1       0.061069     0.036411     0.101357     0.088504     0.008192       45   \n",
       "2      -0.007366    -0.027673     0.052090     0.044097     0.054422       45   \n",
       "3      -0.025891     0.037993     0.012060    -0.044266     0.045405       45   \n",
       "4       0.022433     0.018421     0.086064     0.075351    -0.067089       45   \n",
       "..           ...          ...          ...          ...          ...      ...   \n",
       "745     0.014558    -0.006257     0.114661    -0.020831     0.043870       39   \n",
       "746    -0.012509    -0.024472    -0.082420    -0.018768    -0.091912       39   \n",
       "747    -0.020544    -0.086482     0.202496    -0.089369    -0.052960       39   \n",
       "748    -0.014534     0.014749     0.017866    -0.008768    -0.017424       39   \n",
       "749     0.096852     0.014226    -0.003264     0.047408     0.016309       39   \n",
       "\n",
       "     label_2  label_3  label_4  \n",
       "0         27        1        6  \n",
       "1         27        1        6  \n",
       "2         27        1        6  \n",
       "3         27        1        6  \n",
       "4         27        1        6  \n",
       "..       ...      ...      ...  \n",
       "745       29        1        6  \n",
       "746       29        1        6  \n",
       "747       29        1        6  \n",
       "748       29        1        6  \n",
       "749       29        1        6  \n",
       "\n",
       "[750 rows x 772 columns]"
      ]
     },
     "execution_count": 6,
     "metadata": {},
     "output_type": "execute_result"
    }
   ],
   "source": [
    "mean_age = int(train['label_2'].mean())\n",
    "valid['label_2'].fillna(mean_age, inplace=True)\n",
    "valid['label_2'] = valid['label_2'].astype(int)\n",
    "valid"
   ]
  },
  {
   "cell_type": "code",
   "execution_count": 7,
   "metadata": {},
   "outputs": [
    {
     "data": {
      "text/plain": [
       "feature_1      0\n",
       "feature_2      0\n",
       "feature_3      0\n",
       "feature_4      0\n",
       "feature_5      0\n",
       "              ..\n",
       "feature_768    0\n",
       "label_1        0\n",
       "label_2        0\n",
       "label_3        0\n",
       "label_4        0\n",
       "Length: 772, dtype: int64"
      ]
     },
     "execution_count": 7,
     "metadata": {},
     "output_type": "execute_result"
    }
   ],
   "source": [
    "valid.isnull().sum()"
   ]
  },
  {
   "cell_type": "markdown",
   "metadata": {},
   "source": [
    "Random Forest"
   ]
  },
  {
   "cell_type": "code",
   "execution_count": 8,
   "metadata": {},
   "outputs": [],
   "source": [
    "from sklearn.ensemble import RandomForestClassifier\n",
    "from sklearn.metrics import classification_report\n",
    "\n",
    "def random_forest_classification(train_input, train_output, valid_input, valid_output ):\n",
    "    rf_classifier = RandomForestClassifier()\n",
    "    rf_classifier.fit(train_input, train_output)\n",
    "    valid_predictions = rf_classifier.predict(valid_input)\n",
    "    report = classification_report(valid_output, valid_predictions, output_dict=True)\n",
    "    return  valid_predictions , report , rf_classifier\n"
   ]
  },
  {
   "cell_type": "markdown",
   "metadata": {},
   "source": [
    "SVM Classifier"
   ]
  },
  {
   "cell_type": "code",
   "execution_count": 9,
   "metadata": {},
   "outputs": [],
   "source": [
    "from sklearn.svm import SVC\n",
    "from sklearn.model_selection import train_test_split\n",
    "from sklearn.metrics import accuracy_score, classification_report\n",
    "\n",
    "def train_svm_classifier(train_input, train_output, valid_input, valid_output):\n",
    "\n",
    "    model = SVC()\n",
    "    model.fit(train_input, train_output)\n",
    "    y_pred = model.predict(valid_input)\n",
    "    accuracy = accuracy_score(valid_output, y_pred)\n",
    "    report = classification_report(valid_output, y_pred)\n",
    "\n",
    "    print(\"Model Accuracy: {:.2f}%\".format(accuracy * 100))\n",
    "\n",
    "    return model, y_pred\n"
   ]
  },
  {
   "cell_type": "code",
   "execution_count": 10,
   "metadata": {},
   "outputs": [],
   "source": [
    "from sklearn.svm import SVC\n",
    "from sklearn.model_selection import train_test_split\n",
    "from sklearn.metrics import accuracy_score, classification_report, f1_score\n",
    "\n",
    "def train_svm_classifier_f1(train_input, train_output, valid_input, valid_output):\n",
    "\n",
    "    model = SVC()\n",
    "    model.fit(train_input, train_output)\n",
    "    y_pred = model.predict(valid_input)\n",
    "    accuracy = f1_score(valid_output, y_pred)\n",
    "    report = classification_report(valid_output, y_pred)\n",
    "\n",
    "    print(\"Model Accuracy: {:.2f}%\".format(accuracy * 100))\n",
    "\n",
    "    return model, y_pred"
   ]
  },
  {
   "cell_type": "markdown",
   "metadata": {},
   "source": [
    "XGBoost Classification"
   ]
  },
  {
   "cell_type": "code",
   "execution_count": null,
   "metadata": {},
   "outputs": [],
   "source": [
    "import xgboost as xgb\n",
    "import torch\n",
    "from sklearn.metrics import accuracy_score, classification_report\n",
    "\n",
    "def train_xgboost_classifier(train_input, train_output, valid_input, valid_output):\n",
    "\n",
    "    xgb_gpu = None\n",
    "    if (torch.cuda.is_available()):\n",
    "      model = xgb.XGBClassifier(\n",
    "          tree_method = 'gpu_hist',\n",
    "          gpu_id = 0,\n",
    "      )\n",
    "    else:\n",
    "      model = xgb.XGBClassifier()\n",
    "\n",
    "\n",
    "\n",
    "\n",
    "    model.fit(train_input, train_output)\n",
    "    y_pred = model.predict(valid_input)\n",
    "\n",
    "    accuracy = accuracy_score(valid_output, y_pred)\n",
    "    report = classification_report(valid_output, y_pred)\n",
    "\n",
    "    print(\"Model Accuracy: {:.2f}%\".format(accuracy * 100))\n",
    "\n",
    "    return model, y_pred"
   ]
  },
  {
   "cell_type": "markdown",
   "metadata": {},
   "source": [
    "Label 01"
   ]
  },
  {
   "cell_type": "markdown",
   "metadata": {},
   "source": [
    "Separating features and label 01"
   ]
  },
  {
   "cell_type": "code",
   "execution_count": 11,
   "metadata": {},
   "outputs": [],
   "source": [
    "train_features = train.iloc[:, :768]\n",
    "train_label_1 = train.iloc[:, 768]\n",
    "\n",
    "valid_features = valid.iloc[:, :768]\n",
    "valid_label_1 = valid.iloc[:, 768]\n",
    "\n",
    "test_features = test.iloc[:, :768]\n",
    "test_label_1 = valid.iloc[:, 768]"
   ]
  },
  {
   "cell_type": "code",
   "execution_count": 11,
   "metadata": {},
   "outputs": [
    {
     "name": "stdout",
     "output_type": "stream",
     "text": [
      "[184, 78, 14, 8, 2]\n"
     ]
    }
   ],
   "source": [
    "threshold_array = [0.005, 0.01, 0.05, 0.1, 0.15]\n",
    "remaining_features_count = []\n",
    "\n",
    "for thresh in threshold_array:\n",
    "    var_thres = VarianceThreshold(threshold=thresh)\n",
    "    var_thres.fit(train_features)\n",
    "    remaining_features_count.append(var_thres.get_support().sum())\n",
    "\n",
    "print(remaining_features_count)"
   ]
  },
  {
   "cell_type": "markdown",
   "metadata": {},
   "source": [
    "All most all the features has very low variances."
   ]
  },
  {
   "cell_type": "markdown",
   "metadata": {},
   "source": [
    "Feature selection based on mutual information"
   ]
  },
  {
   "cell_type": "code",
   "execution_count": 12,
   "metadata": {},
   "outputs": [
    {
     "data": {
      "image/png": "[encoded data removed]",
      "text/plain": [
       "<Figure size 1440x576 with 1 Axes>"
      ]
     },
     "metadata": {
      "needs_background": "light"
     },
     "output_type": "display_data"
    }
   ],
   "source": [
    "def plot_mi_scores(features, label, threshold):\n",
    "    mi_scores = mutual_info_classif(features, label)\n",
    "    colors = np.where(mi_scores > threshold, 'b', 'r')\n",
    "    mi_df = pd.DataFrame({'Feature': features.columns, 'MI Score': mi_scores, 'Color': colors})\n",
    "    mi_df = mi_df.sort_values(by='MI Score', ascending=False)\n",
    "    plt.figure(figsize=(20, 8))\n",
    "    bars = plt.bar(mi_df['Feature'], mi_df['MI Score'], color=mi_df['Color'])\n",
    "    plt.xticks(rotation=90)\n",
    "    plt.xlabel('Features')\n",
    "    plt.ylabel('MI Scores')\n",
    "    plt.title('Mutual Information Scores for Features')\n",
    "    plt.legend(handles=[plt.Line2D([0], [0], color='b', lw=4, label='Above Threshold'),\n",
    "                        plt.Line2D([0], [0], color='r', lw=4, label='Below Threshold')])\n",
    "    blue_feature_count = np.sum(mi_df['Color'] == 'b')\n",
    "    \n",
    "    plt.show()\n",
    "    return blue_feature_count\n",
    "\n",
    "\n",
    "feature_count = plot_mi_scores(train_features, train_label_1, threshold=0.07)\n"
   ]
  },
  {
   "cell_type": "code",
   "execution_count": 13,
   "metadata": {},
   "outputs": [
    {
     "data": {
      "text/plain": [
       "290"
      ]
     },
     "execution_count": 13,
     "metadata": {},
     "output_type": "execute_result"
    }
   ],
   "source": [
    "feature_count"
   ]
  },
  {
   "cell_type": "code",
   "execution_count": 15,
   "metadata": {},
   "outputs": [],
   "source": [
    "def miClassification(train_input, train_output, valid_input, test_input, num_features_to_select):\n",
    "    mi_scores = mutual_info_classif(train_input, train_output)\n",
    "    mi_scores = pd.Series(mi_scores, index=train_input.columns)\n",
    "    mi_scores = mi_scores.sort_values(ascending=False)\n",
    "    selected_features_train = mi_scores[:num_features_to_select]\n",
    "    new_train_input = train_input[selected_features_train.index]\n",
    "    new_valid_input = valid_input[selected_features_train.index]\n",
    "    new_test_input = test_input[selected_features_train.index]\n",
    "    return mi_scores , new_train_input , new_valid_input ,new_test_input, selected_features_train"
   ]
  },
  {
   "cell_type": "code",
   "execution_count": 16,
   "metadata": {},
   "outputs": [],
   "source": [
    "mi_scores , new_train_features , new_valid_features ,new_test_features, selected_features_train = miClassification(train_features, train_label_1, valid_features, test_features, feature_count)"
   ]
  },
  {
   "cell_type": "code",
   "execution_count": 106,
   "metadata": {},
   "outputs": [],
   "source": [
    "def evaluate_with_f1_score(y_true, y_pred):\n",
    "    report = classification_report(valid_label_1, y_pred, output_dict=True)\n",
    "\n",
    "    # Access the macro-average values\n",
    "    macro_avg_precision = report['macro avg']['precision']\n",
    "    macro_avg_recall = report['macro avg']['recall']\n",
    "    macro_avg_f1_score = report['macro avg']['f1-score']\n",
    "\n",
    "    print(f'Macro-average precision: {macro_avg_precision}')\n",
    "    print(f'Macro-average recall: {macro_avg_recall}')\n",
    "    print(f'Macro-average F1-score: {macro_avg_f1_score}')\n"
   ]
  },
  {
   "cell_type": "code",
   "execution_count": null,
   "metadata": {},
   "outputs": [],
   "source": [
    "y_pred , report , classifier = random_forest_classification(new_train_features, train_label_1 , new_valid_features, valid_label_1 , 100 )"
   ]
  },
  {
   "cell_type": "code",
   "execution_count": null,
   "metadata": {},
   "outputs": [],
   "source": [
    "classifier.get_params()"
   ]
  },
  {
   "cell_type": "code",
   "execution_count": null,
   "metadata": {},
   "outputs": [],
   "source": [
    "matrix = confusion_matrix(valid_label_1, y_pred)"
   ]
  },
  {
   "cell_type": "code",
   "execution_count": 87,
   "metadata": {},
   "outputs": [
    {
     "data": {
      "text/plain": [
       "array([[ 9,  0,  0, ...,  0,  0,  0],\n",
       "       [ 0,  8,  0, ...,  0,  0,  0],\n",
       "       [ 0,  0, 11, ...,  0,  0,  0],\n",
       "       ...,\n",
       "       [ 0,  0,  0, ..., 19,  1,  0],\n",
       "       [ 0,  0,  0, ...,  0, 10,  0],\n",
       "       [ 0,  0,  0, ...,  0,  0, 10]], dtype=int64)"
      ]
     },
     "execution_count": 87,
     "metadata": {},
     "output_type": "execute_result"
    }
   ],
   "source": [
    "matrix"
   ]
  },
  {
   "cell_type": "code",
   "execution_count": 102,
   "metadata": {},
   "outputs": [
    {
     "name": "stdout",
     "output_type": "stream",
     "text": [
      "Macro-average precision: 0.8797662136052229\n",
      "Macro-average recall: 0.8750475141903161\n",
      "Macro-average F1-score: 0.8713335239072246\n"
     ]
    }
   ],
   "source": [
    "evaluate_with_f1_score(valid_label_1, y_pred)"
   ]
  },
  {
   "cell_type": "markdown",
   "metadata": {},
   "source": [
    "Hyper Parameter Optimization"
   ]
  },
  {
   "cell_type": "code",
   "execution_count": 109,
   "metadata": {},
   "outputs": [],
   "source": [
    "from sklearn.model_selection import RandomizedSearchCV\n",
    "\n",
    "n_estimators = [int(x) for x in np.linspace(start = 50, stop = 300, num = 10)]\n",
    "max_features = ['auto', 'sqrt']\n",
    "max_depth = [int(x) for x in np.linspace(10, 110, num = 11)]\n",
    "max_depth.append(None)\n",
    "min_samples_split = [2, 5, 10]\n",
    "min_samples_leaf = [1, 2, 4]\n",
    "bootstrap = [True, False]\n",
    "random_grid = {'n_estimators': n_estimators,\n",
    "               'max_features': max_features,\n",
    "               'max_depth': max_depth,\n",
    "               'min_samples_split': min_samples_split,\n",
    "               'min_samples_leaf': min_samples_leaf,\n",
    "               'bootstrap': bootstrap}"
   ]
  },
  {
   "cell_type": "code",
   "execution_count": null,
   "metadata": {},
   "outputs": [],
   "source": [
    "\n",
    "rf = RandomForestClassifier()\n",
    "# Random search of parameters, using 3 fold cross validation, \n",
    "# search across 100 different combinations, and use all available cores\n",
    "rf_random = RandomizedSearchCV(estimator = rf, param_distributions = random_grid, n_iter = 50, cv = 3, verbose=2, random_state=42, n_jobs = -1)\n",
    "# Fit the random search model\n",
    "rf_random.fit(new_train_features, train_label_1)"
   ]
  },
  {
   "cell_type": "code",
   "execution_count": null,
   "metadata": {},
   "outputs": [],
   "source": [
    "\n",
    "y_pred , report , classifier = svm_classification(new_train_features, train_label_1 , new_valid_features, valid_label_1 )"
   ]
  },
  {
   "cell_type": "code",
   "execution_count": 18,
   "metadata": {},
   "outputs": [
    {
     "data": {
      "text/plain": [
       "0.9333333333333333"
      ]
     },
     "execution_count": 18,
     "metadata": {},
     "output_type": "execute_result"
    }
   ],
   "source": [
    "accuracy_score(valid_label_1, y_pred)"
   ]
  },
  {
   "cell_type": "code",
   "execution_count": 21,
   "metadata": {},
   "outputs": [
    {
     "data": {
      "text/plain": [
       "{'C': 1.0,\n",
       " 'break_ties': False,\n",
       " 'cache_size': 200,\n",
       " 'class_weight': None,\n",
       " 'coef0': 0.0,\n",
       " 'decision_function_shape': 'ovr',\n",
       " 'degree': 3,\n",
       " 'gamma': 'scale',\n",
       " 'kernel': 'rbf',\n",
       " 'max_iter': -1,\n",
       " 'probability': False,\n",
       " 'random_state': None,\n",
       " 'shrinking': True,\n",
       " 'tol': 0.001,\n",
       " 'verbose': False}"
      ]
     },
     "execution_count": 21,
     "metadata": {},
     "output_type": "execute_result"
    }
   ],
   "source": [
    "classifier.get_params()"
   ]
  },
  {
   "cell_type": "code",
   "execution_count": 23,
   "metadata": {},
   "outputs": [
    {
     "data": {
      "image/png": "[encoded data removed]",
      "text/plain": [
       "<Figure size 432x288 with 1 Axes>"
      ]
     },
     "metadata": {
      "needs_background": "light"
     },
     "output_type": "display_data"
    }
   ],
   "source": [
    "c =  [0.1, 1, 10, 100, 1000]\n",
    "train_results = []\n",
    "test_results = []\n",
    "for reg in c:\n",
    "   svc = SVC(C = reg)\n",
    "   svc.fit(new_train_features, train_label_1)\n",
    "\n",
    "   train_pred = svc.predict(new_train_features)\n",
    "   train_results.append(accuracy_score(train_label_1, train_pred))\n",
    "\n",
    "   y_pred = svc.predict(new_valid_features)\n",
    "   test_results.append(accuracy_score(valid_label_1, y_pred))\n",
    "   \n",
    "from matplotlib.legend_handler import HandlerLine2D\n",
    "line1, = plt.plot(c, train_results, \"b\", label=\"Train\")\n",
    "line2, = plt.plot(c, test_results, \"r\", label=\"Test\")\n",
    "plt.legend(handler_map={line1: HandlerLine2D(numpoints=2)})\n",
    "plt.ylabel(\"Accuracy Score\")\n",
    "plt.xlabel(\"C\")\n",
    "plt.show()"
   ]
  },
  {
   "cell_type": "code",
   "execution_count": 24,
   "metadata": {},
   "outputs": [
    {
     "name": "stdout",
     "output_type": "stream",
     "text": [
      "Fitting 5 folds for each of 25 candidates, totalling 125 fits\n",
      "[CV 1/5] END ........C=0.1, gamma=1, kernel=rbf;, score=0.794 total time= 2.6min\n",
      "[CV 2/5] END ........C=0.1, gamma=1, kernel=rbf;, score=0.788 total time= 2.5min\n",
      "[CV 3/5] END ........C=0.1, gamma=1, kernel=rbf;, score=0.792 total time= 2.6min\n",
      "[CV 4/5] END ........C=0.1, gamma=1, kernel=rbf;, score=0.797 total time= 3.3min\n",
      "[CV 5/5] END ........C=0.1, gamma=1, kernel=rbf;, score=0.788 total time= 2.8min\n",
      "[CV 1/5] END ......C=0.1, gamma=0.1, kernel=rbf;, score=0.677 total time= 2.1min\n",
      "[CV 2/5] END ......C=0.1, gamma=0.1, kernel=rbf;, score=0.680 total time= 2.1min\n",
      "[CV 3/5] END ......C=0.1, gamma=0.1, kernel=rbf;, score=0.674 total time= 2.9min\n",
      "[CV 4/5] END ......C=0.1, gamma=0.1, kernel=rbf;, score=0.684 total time= 3.0min\n",
      "[CV 5/5] END ......C=0.1, gamma=0.1, kernel=rbf;, score=0.686 total time= 2.9min\n",
      "[CV 1/5] END .....C=0.1, gamma=0.01, kernel=rbf;, score=0.099 total time= 2.7min\n",
      "[CV 2/5] END .....C=0.1, gamma=0.01, kernel=rbf;, score=0.103 total time= 3.6min\n",
      "[CV 3/5] END .....C=0.1, gamma=0.01, kernel=rbf;, score=0.110 total time= 3.9min\n",
      "[CV 4/5] END .....C=0.1, gamma=0.01, kernel=rbf;, score=0.100 total time= 4.4min\n",
      "[CV 5/5] END .....C=0.1, gamma=0.01, kernel=rbf;, score=0.096 total time= 3.5min\n",
      "[CV 1/5] END ....C=0.1, gamma=0.001, kernel=rbf;, score=0.017 total time= 3.5min\n",
      "[CV 2/5] END ....C=0.1, gamma=0.001, kernel=rbf;, score=0.017 total time= 3.8min\n",
      "[CV 3/5] END ....C=0.1, gamma=0.001, kernel=rbf;, score=0.017 total time= 3.8min\n",
      "[CV 4/5] END ....C=0.1, gamma=0.001, kernel=rbf;, score=0.017 total time= 3.2min\n",
      "[CV 5/5] END ....C=0.1, gamma=0.001, kernel=rbf;, score=0.034 total time= 3.2min\n",
      "[CV 1/5] END ...C=0.1, gamma=0.0001, kernel=rbf;, score=0.017 total time= 3.1min\n",
      "[CV 2/5] END ...C=0.1, gamma=0.0001, kernel=rbf;, score=0.017 total time= 3.1min\n",
      "[CV 3/5] END ...C=0.1, gamma=0.0001, kernel=rbf;, score=0.017 total time= 3.1min\n",
      "[CV 4/5] END ...C=0.1, gamma=0.0001, kernel=rbf;, score=0.017 total time= 3.1min\n",
      "[CV 5/5] END ...C=0.1, gamma=0.0001, kernel=rbf;, score=0.034 total time= 3.0min\n",
      "[CV 1/5] END ..........C=1, gamma=1, kernel=rbf;, score=0.934 total time= 2.9min\n",
      "[CV 2/5] END ..........C=1, gamma=1, kernel=rbf;, score=0.935 total time= 2.8min\n",
      "[CV 3/5] END ..........C=1, gamma=1, kernel=rbf;, score=0.935 total time= 4.5min\n",
      "[CV 4/5] END ..........C=1, gamma=1, kernel=rbf;, score=0.933 total time= 4.8min\n",
      "[CV 5/5] END ..........C=1, gamma=1, kernel=rbf;, score=0.933 total time= 4.5min\n",
      "[CV 1/5] END ........C=1, gamma=0.1, kernel=rbf;, score=0.917 total time= 2.2min\n",
      "[CV 2/5] END ........C=1, gamma=0.1, kernel=rbf;, score=0.924 total time= 2.0min\n",
      "[CV 3/5] END ........C=1, gamma=0.1, kernel=rbf;, score=0.918 total time= 2.6min\n",
      "[CV 4/5] END ........C=1, gamma=0.1, kernel=rbf;, score=0.915 total time= 2.5min\n",
      "[CV 5/5] END ........C=1, gamma=0.1, kernel=rbf;, score=0.922 total time= 2.6min\n",
      "[CV 1/5] END .......C=1, gamma=0.01, kernel=rbf;, score=0.722 total time= 4.1min\n",
      "[CV 2/5] END .......C=1, gamma=0.01, kernel=rbf;, score=0.728 total time= 3.7min\n",
      "[CV 3/5] END .......C=1, gamma=0.01, kernel=rbf;, score=0.723 total time= 4.0min\n",
      "[CV 4/5] END .......C=1, gamma=0.01, kernel=rbf;, score=0.724 total time= 3.7min\n",
      "[CV 5/5] END .......C=1, gamma=0.01, kernel=rbf;, score=0.733 total time= 3.9min\n",
      "[CV 1/5] END ......C=1, gamma=0.001, kernel=rbf;, score=0.111 total time= 5.5min\n",
      "[CV 2/5] END ......C=1, gamma=0.001, kernel=rbf;, score=0.116 total time= 6.3min\n",
      "[CV 3/5] END ......C=1, gamma=0.001, kernel=rbf;, score=0.119 total time= 6.2min\n",
      "[CV 4/5] END ......C=1, gamma=0.001, kernel=rbf;, score=0.116 total time= 4.8min\n",
      "[CV 5/5] END ......C=1, gamma=0.001, kernel=rbf;, score=0.105 total time= 3.4min\n",
      "[CV 1/5] END .....C=1, gamma=0.0001, kernel=rbf;, score=0.017 total time= 3.0min\n",
      "[CV 2/5] END .....C=1, gamma=0.0001, kernel=rbf;, score=0.017 total time= 3.2min\n",
      "[CV 3/5] END .....C=1, gamma=0.0001, kernel=rbf;, score=0.017 total time= 2.8min\n",
      "[CV 4/5] END .....C=1, gamma=0.0001, kernel=rbf;, score=0.017 total time= 3.0min\n",
      "[CV 5/5] END .....C=1, gamma=0.0001, kernel=rbf;, score=0.034 total time= 3.0min\n",
      "[CV 1/5] END .........C=10, gamma=1, kernel=rbf;, score=0.947 total time= 3.6min\n",
      "[CV 2/5] END .........C=10, gamma=1, kernel=rbf;, score=0.949 total time= 2.9min\n",
      "[CV 3/5] END .........C=10, gamma=1, kernel=rbf;, score=0.946 total time= 2.7min\n",
      "[CV 4/5] END .........C=10, gamma=1, kernel=rbf;, score=0.946 total time= 2.7min\n",
      "[CV 5/5] END .........C=10, gamma=1, kernel=rbf;, score=0.943 total time= 2.7min\n",
      "[CV 1/5] END .......C=10, gamma=0.1, kernel=rbf;, score=0.954 total time= 1.1min\n",
      "[CV 2/5] END .......C=10, gamma=0.1, kernel=rbf;, score=0.956 total time= 1.1min\n",
      "[CV 3/5] END .......C=10, gamma=0.1, kernel=rbf;, score=0.955 total time=  58.0s\n",
      "[CV 4/5] END .......C=10, gamma=0.1, kernel=rbf;, score=0.952 total time=  57.6s\n",
      "[CV 5/5] END .......C=10, gamma=0.1, kernel=rbf;, score=0.952 total time= 1.4min\n",
      "[CV 1/5] END ......C=10, gamma=0.01, kernel=rbf;, score=0.908 total time= 1.7min\n",
      "[CV 2/5] END ......C=10, gamma=0.01, kernel=rbf;, score=0.910 total time= 1.7min\n",
      "[CV 3/5] END ......C=10, gamma=0.01, kernel=rbf;, score=0.908 total time= 1.3min\n",
      "[CV 4/5] END ......C=10, gamma=0.01, kernel=rbf;, score=0.910 total time= 1.3min\n",
      "[CV 5/5] END ......C=10, gamma=0.01, kernel=rbf;, score=0.912 total time= 1.1min\n",
      "[CV 1/5] END .....C=10, gamma=0.001, kernel=rbf;, score=0.723 total time= 2.2min\n",
      "[CV 2/5] END .....C=10, gamma=0.001, kernel=rbf;, score=0.733 total time= 2.3min\n",
      "[CV 3/5] END .....C=10, gamma=0.001, kernel=rbf;, score=0.727 total time= 2.9min\n",
      "[CV 4/5] END .....C=10, gamma=0.001, kernel=rbf;, score=0.728 total time= 2.8min\n",
      "[CV 5/5] END .....C=10, gamma=0.001, kernel=rbf;, score=0.739 total time= 2.5min\n",
      "[CV 1/5] END ....C=10, gamma=0.0001, kernel=rbf;, score=0.114 total time= 3.1min\n",
      "[CV 2/5] END ....C=10, gamma=0.0001, kernel=rbf;, score=0.119 total time= 2.4min\n",
      "[CV 3/5] END ....C=10, gamma=0.0001, kernel=rbf;, score=0.120 total time= 2.5min\n",
      "[CV 4/5] END ....C=10, gamma=0.0001, kernel=rbf;, score=0.117 total time= 2.4min\n",
      "[CV 5/5] END ....C=10, gamma=0.0001, kernel=rbf;, score=0.108 total time= 2.4min\n",
      "[CV 1/5] END ........C=100, gamma=1, kernel=rbf;, score=0.947 total time= 2.3min\n",
      "[CV 2/5] END ........C=100, gamma=1, kernel=rbf;, score=0.949 total time= 2.3min\n",
      "[CV 3/5] END ........C=100, gamma=1, kernel=rbf;, score=0.946 total time= 2.3min\n",
      "[CV 4/5] END ........C=100, gamma=1, kernel=rbf;, score=0.946 total time= 2.2min\n",
      "[CV 5/5] END ........C=100, gamma=1, kernel=rbf;, score=0.944 total time= 2.3min\n",
      "[CV 1/5] END ......C=100, gamma=0.1, kernel=rbf;, score=0.956 total time=  49.3s\n",
      "[CV 2/5] END ......C=100, gamma=0.1, kernel=rbf;, score=0.955 total time=  50.1s\n",
      "[CV 3/5] END ......C=100, gamma=0.1, kernel=rbf;, score=0.959 total time=  49.9s\n",
      "[CV 4/5] END ......C=100, gamma=0.1, kernel=rbf;, score=0.952 total time=  49.6s\n",
      "[CV 5/5] END ......C=100, gamma=0.1, kernel=rbf;, score=0.954 total time=  50.0s\n",
      "[CV 1/5] END .....C=100, gamma=0.01, kernel=rbf;, score=0.940 total time=  43.9s\n",
      "[CV 2/5] END .....C=100, gamma=0.01, kernel=rbf;, score=0.942 total time=  44.1s\n",
      "[CV 3/5] END .....C=100, gamma=0.01, kernel=rbf;, score=0.944 total time=  44.1s\n",
      "[CV 4/5] END .....C=100, gamma=0.01, kernel=rbf;, score=0.939 total time=  43.5s\n",
      "[CV 5/5] END .....C=100, gamma=0.01, kernel=rbf;, score=0.943 total time=  43.8s\n",
      "[CV 1/5] END ....C=100, gamma=0.001, kernel=rbf;, score=0.906 total time= 1.0min\n",
      "[CV 2/5] END ....C=100, gamma=0.001, kernel=rbf;, score=0.907 total time= 1.1min\n",
      "[CV 3/5] END ....C=100, gamma=0.001, kernel=rbf;, score=0.905 total time= 1.1min\n",
      "[CV 4/5] END ....C=100, gamma=0.001, kernel=rbf;, score=0.905 total time= 1.0min\n",
      "[CV 5/5] END ....C=100, gamma=0.001, kernel=rbf;, score=0.910 total time= 1.1min\n",
      "[CV 1/5] END ...C=100, gamma=0.0001, kernel=rbf;, score=0.723 total time= 1.8min\n",
      "[CV 2/5] END ...C=100, gamma=0.0001, kernel=rbf;, score=0.734 total time= 1.8min\n",
      "[CV 3/5] END ...C=100, gamma=0.0001, kernel=rbf;, score=0.728 total time= 1.8min\n",
      "[CV 4/5] END ...C=100, gamma=0.0001, kernel=rbf;, score=0.728 total time= 1.7min\n",
      "[CV 5/5] END ...C=100, gamma=0.0001, kernel=rbf;, score=0.740 total time= 1.8min\n",
      "[CV 1/5] END .......C=1000, gamma=1, kernel=rbf;, score=0.947 total time= 2.3min\n",
      "[CV 2/5] END .......C=1000, gamma=1, kernel=rbf;, score=0.949 total time= 2.3min\n",
      "[CV 3/5] END .......C=1000, gamma=1, kernel=rbf;, score=0.946 total time= 2.3min\n",
      "[CV 4/5] END .......C=1000, gamma=1, kernel=rbf;, score=0.946 total time= 2.2min\n",
      "[CV 5/5] END .......C=1000, gamma=1, kernel=rbf;, score=0.944 total time= 2.2min\n",
      "[CV 1/5] END .....C=1000, gamma=0.1, kernel=rbf;, score=0.956 total time=  49.8s\n",
      "[CV 2/5] END .....C=1000, gamma=0.1, kernel=rbf;, score=0.956 total time=  49.2s\n",
      "[CV 3/5] END .....C=1000, gamma=0.1, kernel=rbf;, score=0.958 total time=  49.7s\n",
      "[CV 4/5] END .....C=1000, gamma=0.1, kernel=rbf;, score=0.952 total time=  49.2s\n",
      "[CV 5/5] END .....C=1000, gamma=0.1, kernel=rbf;, score=0.954 total time=  49.4s\n",
      "[CV 1/5] END ....C=1000, gamma=0.01, kernel=rbf;, score=0.937 total time=  41.6s\n",
      "[CV 2/5] END ....C=1000, gamma=0.01, kernel=rbf;, score=0.934 total time=  41.1s\n",
      "[CV 3/5] END ....C=1000, gamma=0.01, kernel=rbf;, score=0.940 total time=  41.5s\n",
      "[CV 4/5] END ....C=1000, gamma=0.01, kernel=rbf;, score=0.932 total time=  40.9s\n",
      "[CV 5/5] END ....C=1000, gamma=0.01, kernel=rbf;, score=0.939 total time=  41.0s\n",
      "[CV 1/5] END ...C=1000, gamma=0.001, kernel=rbf;, score=0.938 total time=  43.6s\n",
      "[CV 2/5] END ...C=1000, gamma=0.001, kernel=rbf;, score=0.938 total time=  43.3s\n",
      "[CV 3/5] END ...C=1000, gamma=0.001, kernel=rbf;, score=0.939 total time=  43.2s\n",
      "[CV 4/5] END ...C=1000, gamma=0.001, kernel=rbf;, score=0.936 total time=  43.2s\n",
      "[CV 5/5] END ...C=1000, gamma=0.001, kernel=rbf;, score=0.939 total time=  43.1s\n",
      "[CV 1/5] END ..C=1000, gamma=0.0001, kernel=rbf;, score=0.905 total time= 1.0min\n",
      "[CV 2/5] END ..C=1000, gamma=0.0001, kernel=rbf;, score=0.907 total time= 1.0min\n",
      "[CV 3/5] END ..C=1000, gamma=0.0001, kernel=rbf;, score=0.905 total time= 1.0min\n",
      "[CV 4/5] END ..C=1000, gamma=0.0001, kernel=rbf;, score=0.905 total time= 1.0min\n",
      "[CV 5/5] END ..C=1000, gamma=0.0001, kernel=rbf;, score=0.909 total time= 1.0min\n"
     ]
    },
    {
     "data": {
      "text/html": [
       "<style>#sk-container-id-2 {color: black;}#sk-container-id-2 pre{padding: 0;}#sk-container-id-2 div.sk-toggleable {background-color: white;}#sk-container-id-2 label.sk-toggleable__label {cursor: pointer;display: block;width: 100%;margin-bottom: 0;padding: 0.3em;box-sizing: border-box;text-align: center;}#sk-container-id-2 label.sk-toggleable__label-arrow:before {content: \"▸\";float: left;margin-right: 0.25em;color: #696969;}#sk-container-id-2 label.sk-toggleable__label-arrow:hover:before {color: black;}#sk-container-id-2 div.sk-estimator:hover label.sk-toggleable__label-arrow:before {color: black;}#sk-container-id-2 div.sk-toggleable__content {max-height: 0;max-width: 0;overflow: hidden;text-align: left;background-color: #f0f8ff;}#sk-container-id-2 div.sk-toggleable__content pre {margin: 0.2em;color: black;border-radius: 0.25em;background-color: #f0f8ff;}#sk-container-id-2 input.sk-toggleable__control:checked~div.sk-toggleable__content {max-height: 200px;max-width: 100%;overflow: auto;}#sk-container-id-2 input.sk-toggleable__control:checked~label.sk-toggleable__label-arrow:before {content: \"▾\";}#sk-container-id-2 div.sk-estimator input.sk-toggleable__control:checked~label.sk-toggleable__label {background-color: #d4ebff;}#sk-container-id-2 div.sk-label input.sk-toggleable__control:checked~label.sk-toggleable__label {background-color: #d4ebff;}#sk-container-id-2 input.sk-hidden--visually {border: 0;clip: rect(1px 1px 1px 1px);clip: rect(1px, 1px, 1px, 1px);height: 1px;margin: -1px;overflow: hidden;padding: 0;position: absolute;width: 1px;}#sk-container-id-2 div.sk-estimator {font-family: monospace;background-color: #f0f8ff;border: 1px dotted black;border-radius: 0.25em;box-sizing: border-box;margin-bottom: 0.5em;}#sk-container-id-2 div.sk-estimator:hover {background-color: #d4ebff;}#sk-container-id-2 div.sk-parallel-item::after {content: \"\";width: 100%;border-bottom: 1px solid gray;flex-grow: 1;}#sk-container-id-2 div.sk-label:hover label.sk-toggleable__label {background-color: #d4ebff;}#sk-container-id-2 div.sk-serial::before {content: \"\";position: absolute;border-left: 1px solid gray;box-sizing: border-box;top: 0;bottom: 0;left: 50%;z-index: 0;}#sk-container-id-2 div.sk-serial {display: flex;flex-direction: column;align-items: center;background-color: white;padding-right: 0.2em;padding-left: 0.2em;position: relative;}#sk-container-id-2 div.sk-item {position: relative;z-index: 1;}#sk-container-id-2 div.sk-parallel {display: flex;align-items: stretch;justify-content: center;background-color: white;position: relative;}#sk-container-id-2 div.sk-item::before, #sk-container-id-2 div.sk-parallel-item::before {content: \"\";position: absolute;border-left: 1px solid gray;box-sizing: border-box;top: 0;bottom: 0;left: 50%;z-index: -1;}#sk-container-id-2 div.sk-parallel-item {display: flex;flex-direction: column;z-index: 1;position: relative;background-color: white;}#sk-container-id-2 div.sk-parallel-item:first-child::after {align-self: flex-end;width: 50%;}#sk-container-id-2 div.sk-parallel-item:last-child::after {align-self: flex-start;width: 50%;}#sk-container-id-2 div.sk-parallel-item:only-child::after {width: 0;}#sk-container-id-2 div.sk-dashed-wrapped {border: 1px dashed gray;margin: 0 0.4em 0.5em 0.4em;box-sizing: border-box;padding-bottom: 0.4em;background-color: white;}#sk-container-id-2 div.sk-label label {font-family: monospace;font-weight: bold;display: inline-block;line-height: 1.2em;}#sk-container-id-2 div.sk-label-container {text-align: center;}#sk-container-id-2 div.sk-container {/* jupyter's `normalize.less` sets `[hidden] { display: none; }` but bootstrap.min.css set `[hidden] { display: none !important; }` so we also need the `!important` here to be able to override the default hidden behavior on the sphinx rendered scikit-learn.org. See: https://github.com/scikit-learn/scikit-learn/issues/21755 */display: inline-block !important;position: relative;}#sk-container-id-2 div.sk-text-repr-fallback {display: none;}</style><div id=\"sk-container-id-2\" class=\"sk-top-container\"><div class=\"sk-text-repr-fallback\"><pre>GridSearchCV(estimator=SVC(),\n",
       "             param_grid={&#x27;C&#x27;: [0.1, 1, 10, 100, 1000],\n",
       "                         &#x27;gamma&#x27;: [1, 0.1, 0.01, 0.001, 0.0001],\n",
       "                         &#x27;kernel&#x27;: [&#x27;rbf&#x27;]},\n",
       "             verbose=3)</pre><b>In a Jupyter environment, please rerun this cell to show the HTML representation or trust the notebook. <br />On GitHub, the HTML representation is unable to render, please try loading this page with nbviewer.org.</b></div><div class=\"sk-container\" hidden><div class=\"sk-item sk-dashed-wrapped\"><div class=\"sk-label-container\"><div class=\"sk-label sk-toggleable\"><input class=\"sk-toggleable__control sk-hidden--visually\" id=\"sk-estimator-id-2\" type=\"checkbox\" ><label for=\"sk-estimator-id-2\" class=\"sk-toggleable__label sk-toggleable__label-arrow\">GridSearchCV</label><div class=\"sk-toggleable__content\"><pre>GridSearchCV(estimator=SVC(),\n",
       "             param_grid={&#x27;C&#x27;: [0.1, 1, 10, 100, 1000],\n",
       "                         &#x27;gamma&#x27;: [1, 0.1, 0.01, 0.001, 0.0001],\n",
       "                         &#x27;kernel&#x27;: [&#x27;rbf&#x27;]},\n",
       "             verbose=3)</pre></div></div></div><div class=\"sk-parallel\"><div class=\"sk-parallel-item\"><div class=\"sk-item\"><div class=\"sk-label-container\"><div class=\"sk-label sk-toggleable\"><input class=\"sk-toggleable__control sk-hidden--visually\" id=\"sk-estimator-id-3\" type=\"checkbox\" ><label for=\"sk-estimator-id-3\" class=\"sk-toggleable__label sk-toggleable__label-arrow\">estimator: SVC</label><div class=\"sk-toggleable__content\"><pre>SVC()</pre></div></div></div><div class=\"sk-serial\"><div class=\"sk-item\"><div class=\"sk-estimator sk-toggleable\"><input class=\"sk-toggleable__control sk-hidden--visually\" id=\"sk-estimator-id-4\" type=\"checkbox\" ><label for=\"sk-estimator-id-4\" class=\"sk-toggleable__label sk-toggleable__label-arrow\">SVC</label><div class=\"sk-toggleable__content\"><pre>SVC()</pre></div></div></div></div></div></div></div></div></div></div>"
      ],
      "text/plain": [
       "GridSearchCV(estimator=SVC(),\n",
       "             param_grid={'C': [0.1, 1, 10, 100, 1000],\n",
       "                         'gamma': [1, 0.1, 0.01, 0.001, 0.0001],\n",
       "                         'kernel': ['rbf']},\n",
       "             verbose=3)"
      ]
     },
     "execution_count": 24,
     "metadata": {},
     "output_type": "execute_result"
    }
   ],
   "source": [
    "\n",
    "from sklearn.model_selection import GridSearchCV\n",
    "  \n",
    "# defining parameter range\n",
    "param_grid = {'C': [0.1, 1, 10, 100, 1000], \n",
    "              'gamma': [1, 0.1, 0.01, 0.001, 0.0001],\n",
    "              'kernel': ['rbf']} \n",
    "  \n",
    "grid = GridSearchCV(SVC(), param_grid, refit = True, verbose = 3)\n",
    "  \n",
    "grid.fit(new_train_features, train_label_1)"
   ]
  },
  {
   "cell_type": "code",
   "execution_count": 25,
   "metadata": {},
   "outputs": [
    {
     "data": {
      "text/plain": [
       "{'C': 100, 'gamma': 0.1, 'kernel': 'rbf'}"
      ]
     },
     "execution_count": 25,
     "metadata": {},
     "output_type": "execute_result"
    }
   ],
   "source": [
    "grid.best_params_"
   ]
  },
  {
   "cell_type": "code",
   "execution_count": 27,
   "metadata": {},
   "outputs": [
    {
     "data": {
      "text/plain": [
       "0.968"
      ]
     },
     "execution_count": 27,
     "metadata": {},
     "output_type": "execute_result"
    }
   ],
   "source": [
    "svc_ao = SVC(C= 100, gamma= 0.1, kernel='rbf')\n",
    "svc_ao.fit(new_train_features, train_label_1)\n",
    "\n",
    "y_pred = svc_ao.predict(new_valid_features)\n",
    "accuracy_score(valid_label_1, y_pred)"
   ]
  },
  {
   "cell_type": "markdown",
   "metadata": {},
   "source": [
    "# Label 03"
   ]
  },
  {
   "cell_type": "code",
   "execution_count": 12,
   "metadata": {},
   "outputs": [],
   "source": [
    "train_label_3 = train.iloc[:, 770]\n",
    "valid_label_3 = valid.iloc[:, 770]"
   ]
  },
  {
   "cell_type": "markdown",
   "metadata": {},
   "source": [
    "Plotting class distribution"
   ]
  },
  {
   "cell_type": "code",
   "execution_count": 13,
   "metadata": {},
   "outputs": [
    {
     "data": {
      "image/png": "[encoded data removed]",
      "text/plain": [
       "<Figure size 800x600 with 1 Axes>"
      ]
     },
     "metadata": {},
     "output_type": "display_data"
    }
   ],
   "source": [
    "class_counts = train_label_3.value_counts()\n",
    "plt.figure(figsize=(8, 6))\n",
    "class_counts.plot(kind='bar', color='skyblue')\n",
    "\n",
    "plt.xlabel('Class Label')\n",
    "plt.ylabel('Count')\n",
    "plt.title('Class Distribution')\n",
    "\n",
    "\n",
    "plt.show()"
   ]
  },
  {
   "cell_type": "markdown",
   "metadata": {},
   "source": [
    "Random Forest Classificaton"
   ]
  },
  {
   "cell_type": "code",
   "execution_count": 25,
   "metadata": {},
   "outputs": [],
   "source": [
    "valid_predictions , report , rf_classifier = random_forest_classification(train_features, train_label_3, valid_features, valid_label_3)\n"
   ]
  },
  {
   "cell_type": "code",
   "execution_count": 26,
   "metadata": {},
   "outputs": [
    {
     "data": {
      "text/plain": [
       "0.9733333333333334"
      ]
     },
     "execution_count": 26,
     "metadata": {},
     "output_type": "execute_result"
    }
   ],
   "source": [
    "accuracy_score(valid_label_3 , valid_predictions)"
   ]
  },
  {
   "cell_type": "markdown",
   "metadata": {},
   "source": [
    "SVM Classification"
   ]
  },
  {
   "cell_type": "code",
   "execution_count": 31,
   "metadata": {},
   "outputs": [
    {
     "name": "stdout",
     "output_type": "stream",
     "text": [
      "Model Accuracy: 99.73%\n"
     ]
    }
   ],
   "source": [
    "model , pred = train_svm_classifier(train_features, train_label_3, valid_features, valid_label_3)"
   ]
  },
  {
   "cell_type": "markdown",
   "metadata": {},
   "source": [
    "XGBoost Classification"
   ]
  },
  {
   "cell_type": "code",
   "execution_count": null,
   "metadata": {},
   "outputs": [],
   "source": [
    "model , y_predct = train_xgboost_classifier(train_features, train_label_3, valid_features, valid_label_3)"
   ]
  },
  {
   "cell_type": "markdown",
   "metadata": {},
   "source": [
    "Model Accuracy is 99.33%"
   ]
  },
  {
   "cell_type": "markdown",
   "metadata": {},
   "source": [
    "Best Model selection with Cross Validations"
   ]
  },
  {
   "cell_type": "code",
   "execution_count": null,
   "metadata": {},
   "outputs": [],
   "source": [
    "import numpy as np\n",
    "from sklearn.model_selection import StratifiedKFold\n",
    "from sklearn.metrics import accuracy_score, f1_score\n",
    "from sklearn.ensemble import RandomForestClassifier\n",
    "from sklearn.svm import SVC\n",
    "\n",
    "\n",
    "\n",
    "classifiers = {\n",
    "    \"Random Forest\": RandomForestClassifier(),\n",
    "    \"SVM\": SVC(),\n",
    "}\n",
    "\n",
    "\n",
    "best_model = None\n",
    "best_accuracy = 0.0\n",
    "\n",
    "\n",
    "n_splits = 5\n",
    "skf = StratifiedKFold(n_splits=n_splits)\n",
    "\n",
    "for name, clf in classifiers.items():\n",
    "    total_accuracy = 0.0\n",
    "\n",
    "    for train_index, test_index in skf.split(train_features, train_label_3):\n",
    "        X_train, X_test = train_features.iloc[train_index], train_features.iloc[test_index]\n",
    "        y_train, y_test = train_label_3[train_index], train_label_3[test_index]\n",
    "\n",
    "        clf.fit(X_train, y_train)\n",
    "        y_pred = clf.predict(X_test)\n",
    "        f1 = f1_score(y_test, y_pred, average='weighted')\n",
    "        total_accuracy += f1\n",
    "\n",
    "    average_accuracy = total_accuracy / n_splits\n",
    "    print(f\"{name} - Average Accuracy: {average_accuracy}\")\n",
    "\n",
    "    \n",
    "    if average_accuracy > best_accuracy:\n",
    "        best_model = clf\n",
    "        best_accuracy = average_accuracy\n",
    "\n",
    "print(f\"Best Model: {type(best_model)._name_}\")"
   ]
  },
  {
   "cell_type": "markdown",
   "metadata": {},
   "source": [
    "Random Forest - Average Accuracy: 0.9122953687711229\n",
    "SVM - Average Accuracy: 0.985751068658803"
   ]
  },
  {
   "cell_type": "markdown",
   "metadata": {},
   "source": [
    "SMOTE for class imbalances"
   ]
  },
  {
   "cell_type": "code",
   "execution_count": 14,
   "metadata": {},
   "outputs": [],
   "source": [
    "from imblearn.over_sampling import SMOTE\n",
    "\n",
    "smote = SMOTE(sampling_strategy='auto', random_state=42)\n",
    "train_feature_resampled, train_label_3_resampled = smote.fit_resample(train_features, train_label_3)"
   ]
  },
  {
   "cell_type": "code",
   "execution_count": 15,
   "metadata": {},
   "outputs": [
    {
     "name": "stdout",
     "output_type": "stream",
     "text": [
      "Model Accuracy: 99.67%\n"
     ]
    }
   ],
   "source": [
    "model , pred = train_svm_classifier_f1(train_feature_resampled, train_label_3_resampled , valid_features, valid_label_3)"
   ]
  },
  {
   "cell_type": "markdown",
   "metadata": {},
   "source": [
    "PCA Transformation for label 3"
   ]
  },
  {
   "cell_type": "code",
   "execution_count": 18,
   "metadata": {},
   "outputs": [],
   "source": [
    "from sklearn.decomposition import PCA\n",
    "\n",
    "def performPca(train_input, valid_input,test_input, n_components):\n",
    "    pca = PCA(n_components=n_components)\n",
    "    train_reduced = pca.fit_transform(train_input)\n",
    "    valid_reduced = pca.transform(valid_input)\n",
    "    test_reduced = pca.transform(test_input)\n",
    "    train_reduced_df = pd.DataFrame(train_reduced, columns=[f\"new_feature_{i+1}\" for i in range(train_reduced.shape[1])])\n",
    "    valid_reduced_df = pd.DataFrame(valid_reduced, columns=[f\"new_feature_{i+1}\" for i in range(valid_reduced.shape[1])])\n",
    "    test_reduced_df = pd.DataFrame(test_reduced, columns=[f\"new_feature_{i+1}\" for i in range(test_reduced.shape[1])])\n",
    "\n",
    "\n",
    "    return train_reduced_df, valid_reduced_df,test_reduced_df"
   ]
  },
  {
   "cell_type": "code",
   "execution_count": 19,
   "metadata": {},
   "outputs": [],
   "source": [
    "from sklearn.preprocessing import RobustScaler\n",
    "\n",
    "transformer = RobustScaler()\n",
    "scaled_train_features = transformer.fit_transform(train_feature_resampled)\n",
    "scaled_valid_features = transformer.fit_transform(valid_features)\n",
    "scaled_test_features = transformer.fit_transform(test_features)"
   ]
  },
  {
   "cell_type": "code",
   "execution_count": 20,
   "metadata": {},
   "outputs": [],
   "source": [
    "train_reduced_df, valid_reduced_df,test_reduced_df = performPca(scaled_train_features, scaled_valid_features, scaled_test_features, 0.99)"
   ]
  },
  {
   "cell_type": "code",
   "execution_count": 21,
   "metadata": {},
   "outputs": [
    {
     "name": "stdout",
     "output_type": "stream",
     "text": [
      "Model Accuracy: 95.62%\n"
     ]
    }
   ],
   "source": [
    "model , after_pca_predictions = train_svm_classifier_f1(train_reduced_df, train_label_3_resampled , valid_reduced_df, valid_label_3)"
   ]
  },
  {
   "cell_type": "markdown",
   "metadata": {},
   "source": [
    "\n",
    "\n",
    "0.95  ---->   95.26%\n",
    "0.98  ---->   95.53%\n",
    "0.985 ---->   96.35%\n",
    "0.99  ---->   96.62% \n",
    "0.991 ---->   95.62%\n",
    "0.995 ---->   95.71%\n"
   ]
  },
  {
   "cell_type": "code",
   "execution_count": null,
   "metadata": {},
   "outputs": [],
   "source": [
    "Predict For Test Data"
   ]
  },
  {
   "cell_type": "code",
   "execution_count": 22,
   "metadata": {},
   "outputs": [],
   "source": [
    "test_predictions = model.predict(test_reduced_df)\n",
    "#Write to file\n",
    "test_pred_df = pd.DataFrame(test_predictions, columns=['label_3'])\n",
    "test_pred_df.to_csv('predictions/label_3.csv', index=False)"
   ]
  },
  {
   "cell_type": "code",
   "execution_count": null,
   "metadata": {},
   "outputs": [],
   "source": [
    "import time\n",
    "from sklearn.model_selection import train_test_split, StratifiedKFold, cross_val_score, RandomizedSearchCV\n",
    "\n",
    "def hyperparameter_tune(base_model, parameters, n_iter, kfold, X=X_train, y=y_train):\n",
    "\n",
    "    start_time = time.time()\n",
    "    k = StratifiedKFold(n_splits=kfold, shuffle=False)\n",
    "    optimal_model = RandomizedSearchCV(base_model,\n",
    "                            param_distributions=parameters,\n",
    "                            n_iter=n_iter,\n",
    "                            cv=k,\n",
    "                            n_jobs=-1,\n",
    "                            random_state=42)\n",
    "    \n",
    "    optimal_model.fit(X, y)\n",
    "    stop_time = time.time()\n",
    "\n",
    "    scores = cross_val_score(optimal_model, X, y, cv=k, scoring=\"accuracy\")\n",
    "    \n",
    "    print(\"Elapsed Time:\", time.strftime(\"%H:%M:%S\", time.gmtime(stop_time - start_time)))\n",
    "    print(\"====================\")\n",
    "    print(\"Cross Val Mean: {:.3f}, Cross Val Stdev: {:.3f}\".format(scores.mean(), scores.std()))\n",
    "    print(\"Best Score: {:.3f}\".format(optimal_model.best_score_))\n",
    "    print(\"Best Parameters: {}\".format(optimal_model.best_params_))\n",
    "    \n",
    "    return optimal_model.best_params_, optimal_model.best_score_"
   ]
  },
  {
   "cell_type": "code",
   "execution_count": null,
   "metadata": {},
   "outputs": [],
   "source": [
    "# defining parameter range\n",
    "param_grid = {'C': [0.1, 1, 10, 100, 1000], \n",
    "              'gamma': [1, 0.1, 0.01, 0.001, 0.0001],\n",
    "              'kernel': ['rbf' , 'linear' , 'poly']} \n",
    "\n",
    "base_model = SVC()\n",
    "hyperparameter_tune(base_model, param_grid, 10, 5, X=train_reduced_df, y=train_label_2)"
   ]
  }
 ],
 "metadata": {
  "kernelspec": {
   "display_name": "Python 3",
   "language": "python",
   "name": "python3"
  },
  "language_info": {
   "codemirror_mode": {
    "name": "ipython",
    "version": 3
   },
   "file_extension": ".py",
   "mimetype": "text/x-python",
   "name": "python",
   "nbconvert_exporter": "python",
   "pygments_lexer": "ipython3",
   "version": "3.11.5"
  },
  "orig_nbformat": 4
 },
 "nbformat": 4,
 "nbformat_minor": 2
}
