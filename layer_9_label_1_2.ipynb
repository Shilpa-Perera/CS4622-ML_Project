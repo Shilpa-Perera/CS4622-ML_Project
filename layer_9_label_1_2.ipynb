{
  "cells": [
    {
      "cell_type": "code",
      "execution_count": 1,
      "metadata": {
        "id": "qIUt7ibMMuXu"
      },
      "outputs": [],
      "source": [
        "import pandas as pd\n",
        "from sklearn.feature_selection import VarianceThreshold\n",
        "from sklearn.ensemble import RandomForestClassifier\n",
        "from sklearn.feature_selection import mutual_info_classif\n",
        "import matplotlib.pyplot as plt\n",
        "import numpy as np\n",
        "from sklearn.metrics import accuracy_score, confusion_matrix, classification_report"
      ]
    },
    {
      "cell_type": "code",
      "execution_count": 2,
      "metadata": {
        "colab": {
          "base_uri": "https://localhost:8080/"
        },
        "id": "53J4AoStMuXy",
        "outputId": "fea34a83-97a3-43c0-b5ec-de1358dcba98"
      },
      "outputs": [],
      "source": [
        "train_path = 'speech-based-classification-layer-9/train.csv'\n",
        "valid_path = 'speech-based-classification-layer-9/valid.csv'\n",
        "test_path = 'speech-based-classification-layer-9/test.csv'\n",
        "train = pd.read_csv(train_path)\n",
        "valid = pd.read_csv(valid_path)\n",
        "test = pd.read_csv(test_path)\n",
        "original_train = train.copy()\n",
        "original_valid = train.copy()\n",
        "original_test = test.copy()"
      ]
    },
    {
      "cell_type": "markdown",
      "metadata": {
        "id": "eRNThtOCMuXz"
      },
      "source": [
        "# **Data Imputing**"
      ]
    },
    {
      "cell_type": "code",
      "execution_count": 3,
      "metadata": {
        "colab": {
          "base_uri": "https://localhost:8080/"
        },
        "id": "Dp7XjI-PMuX2",
        "outputId": "8977ae65-67e9-45ed-f4b4-983c5b791892"
      },
      "outputs": [
        {
          "data": {
            "text/plain": [
              "feature_1        0\n",
              "feature_2        0\n",
              "feature_3        0\n",
              "feature_4        0\n",
              "feature_5        0\n",
              "              ... \n",
              "feature_768      0\n",
              "label_1          0\n",
              "label_2        480\n",
              "label_3          0\n",
              "label_4          0\n",
              "Length: 772, dtype: int64"
            ]
          },
          "execution_count": 3,
          "metadata": {},
          "output_type": "execute_result"
        }
      ],
      "source": [
        "train.isnull().sum()"
      ]
    },
    {
      "cell_type": "markdown",
      "metadata": {
        "id": "mZmR8-yyMuX3"
      },
      "source": [
        "Filling missing values with mean in train data set"
      ]
    },
    {
      "cell_type": "code",
      "execution_count": 4,
      "metadata": {
        "colab": {
          "base_uri": "https://localhost:8080/",
          "height": 443
        },
        "id": "ThsBak34MuX3",
        "outputId": "297edaa8-b0f2-4f31-c800-a63f6d143310"
      },
      "outputs": [
        {
          "data": {
            "text/html": [
              "<div>\n",
              "<style scoped>\n",
              "    .dataframe tbody tr th:only-of-type {\n",
              "        vertical-align: middle;\n",
              "    }\n",
              "\n",
              "    .dataframe tbody tr th {\n",
              "        vertical-align: top;\n",
              "    }\n",
              "\n",
              "    .dataframe thead th {\n",
              "        text-align: right;\n",
              "    }\n",
              "</style>\n",
              "<table border=\"1\" class=\"dataframe\">\n",
              "  <thead>\n",
              "    <tr style=\"text-align: right;\">\n",
              "      <th></th>\n",
              "      <th>feature_1</th>\n",
              "      <th>feature_2</th>\n",
              "      <th>feature_3</th>\n",
              "      <th>feature_4</th>\n",
              "      <th>feature_5</th>\n",
              "      <th>feature_6</th>\n",
              "      <th>feature_7</th>\n",
              "      <th>feature_8</th>\n",
              "      <th>feature_9</th>\n",
              "      <th>feature_10</th>\n",
              "      <th>...</th>\n",
              "      <th>feature_763</th>\n",
              "      <th>feature_764</th>\n",
              "      <th>feature_765</th>\n",
              "      <th>feature_766</th>\n",
              "      <th>feature_767</th>\n",
              "      <th>feature_768</th>\n",
              "      <th>label_1</th>\n",
              "      <th>label_2</th>\n",
              "      <th>label_3</th>\n",
              "      <th>label_4</th>\n",
              "    </tr>\n",
              "  </thead>\n",
              "  <tbody>\n",
              "    <tr>\n",
              "      <th>0</th>\n",
              "      <td>0.019301</td>\n",
              "      <td>0.059756</td>\n",
              "      <td>0.081375</td>\n",
              "      <td>0.057481</td>\n",
              "      <td>-0.068440</td>\n",
              "      <td>-0.165913</td>\n",
              "      <td>0.035643</td>\n",
              "      <td>-0.091138</td>\n",
              "      <td>0.021688</td>\n",
              "      <td>0.057158</td>\n",
              "      <td>...</td>\n",
              "      <td>-0.035576</td>\n",
              "      <td>0.127319</td>\n",
              "      <td>0.098128</td>\n",
              "      <td>-0.058787</td>\n",
              "      <td>0.100971</td>\n",
              "      <td>-0.047754</td>\n",
              "      <td>45</td>\n",
              "      <td>27</td>\n",
              "      <td>1</td>\n",
              "      <td>6</td>\n",
              "    </tr>\n",
              "    <tr>\n",
              "      <th>1</th>\n",
              "      <td>0.049741</td>\n",
              "      <td>0.090030</td>\n",
              "      <td>0.035118</td>\n",
              "      <td>-0.013676</td>\n",
              "      <td>-0.194317</td>\n",
              "      <td>-0.101763</td>\n",
              "      <td>0.085875</td>\n",
              "      <td>-0.081317</td>\n",
              "      <td>0.112418</td>\n",
              "      <td>0.120523</td>\n",
              "      <td>...</td>\n",
              "      <td>0.020538</td>\n",
              "      <td>0.058968</td>\n",
              "      <td>0.029803</td>\n",
              "      <td>0.111324</td>\n",
              "      <td>0.036727</td>\n",
              "      <td>0.031927</td>\n",
              "      <td>45</td>\n",
              "      <td>27</td>\n",
              "      <td>1</td>\n",
              "      <td>6</td>\n",
              "    </tr>\n",
              "    <tr>\n",
              "      <th>2</th>\n",
              "      <td>0.019212</td>\n",
              "      <td>0.087779</td>\n",
              "      <td>0.093907</td>\n",
              "      <td>-0.033738</td>\n",
              "      <td>-0.141409</td>\n",
              "      <td>-0.062881</td>\n",
              "      <td>-0.071402</td>\n",
              "      <td>-0.006599</td>\n",
              "      <td>0.020372</td>\n",
              "      <td>-0.027777</td>\n",
              "      <td>...</td>\n",
              "      <td>0.119645</td>\n",
              "      <td>-0.040861</td>\n",
              "      <td>0.000548</td>\n",
              "      <td>-0.061003</td>\n",
              "      <td>-0.042450</td>\n",
              "      <td>0.063340</td>\n",
              "      <td>45</td>\n",
              "      <td>27</td>\n",
              "      <td>1</td>\n",
              "      <td>6</td>\n",
              "    </tr>\n",
              "    <tr>\n",
              "      <th>3</th>\n",
              "      <td>0.070283</td>\n",
              "      <td>0.049040</td>\n",
              "      <td>0.042126</td>\n",
              "      <td>0.122637</td>\n",
              "      <td>-0.056964</td>\n",
              "      <td>-0.113700</td>\n",
              "      <td>0.108454</td>\n",
              "      <td>0.051336</td>\n",
              "      <td>0.086610</td>\n",
              "      <td>0.141578</td>\n",
              "      <td>...</td>\n",
              "      <td>-0.124494</td>\n",
              "      <td>-0.169225</td>\n",
              "      <td>-0.046391</td>\n",
              "      <td>0.148787</td>\n",
              "      <td>0.014616</td>\n",
              "      <td>-0.140644</td>\n",
              "      <td>45</td>\n",
              "      <td>27</td>\n",
              "      <td>1</td>\n",
              "      <td>6</td>\n",
              "    </tr>\n",
              "    <tr>\n",
              "      <th>4</th>\n",
              "      <td>0.028864</td>\n",
              "      <td>0.165634</td>\n",
              "      <td>0.016302</td>\n",
              "      <td>0.036117</td>\n",
              "      <td>-0.028871</td>\n",
              "      <td>-0.147748</td>\n",
              "      <td>0.053180</td>\n",
              "      <td>0.025071</td>\n",
              "      <td>-0.004200</td>\n",
              "      <td>-0.022183</td>\n",
              "      <td>...</td>\n",
              "      <td>-0.124862</td>\n",
              "      <td>0.044907</td>\n",
              "      <td>0.084005</td>\n",
              "      <td>-0.038450</td>\n",
              "      <td>0.084371</td>\n",
              "      <td>-0.072146</td>\n",
              "      <td>45</td>\n",
              "      <td>27</td>\n",
              "      <td>1</td>\n",
              "      <td>6</td>\n",
              "    </tr>\n",
              "    <tr>\n",
              "      <th>...</th>\n",
              "      <td>...</td>\n",
              "      <td>...</td>\n",
              "      <td>...</td>\n",
              "      <td>...</td>\n",
              "      <td>...</td>\n",
              "      <td>...</td>\n",
              "      <td>...</td>\n",
              "      <td>...</td>\n",
              "      <td>...</td>\n",
              "      <td>...</td>\n",
              "      <td>...</td>\n",
              "      <td>...</td>\n",
              "      <td>...</td>\n",
              "      <td>...</td>\n",
              "      <td>...</td>\n",
              "      <td>...</td>\n",
              "      <td>...</td>\n",
              "      <td>...</td>\n",
              "      <td>...</td>\n",
              "      <td>...</td>\n",
              "      <td>...</td>\n",
              "    </tr>\n",
              "    <tr>\n",
              "      <th>28515</th>\n",
              "      <td>-0.041520</td>\n",
              "      <td>0.302638</td>\n",
              "      <td>0.004811</td>\n",
              "      <td>0.211441</td>\n",
              "      <td>-0.249326</td>\n",
              "      <td>-0.113395</td>\n",
              "      <td>-0.146776</td>\n",
              "      <td>-0.146222</td>\n",
              "      <td>-0.040344</td>\n",
              "      <td>-0.124016</td>\n",
              "      <td>...</td>\n",
              "      <td>0.290069</td>\n",
              "      <td>-0.223051</td>\n",
              "      <td>-0.053575</td>\n",
              "      <td>-0.230222</td>\n",
              "      <td>-0.451943</td>\n",
              "      <td>0.117817</td>\n",
              "      <td>39</td>\n",
              "      <td>29</td>\n",
              "      <td>1</td>\n",
              "      <td>6</td>\n",
              "    </tr>\n",
              "    <tr>\n",
              "      <th>28516</th>\n",
              "      <td>-0.056359</td>\n",
              "      <td>0.061850</td>\n",
              "      <td>0.051865</td>\n",
              "      <td>0.032107</td>\n",
              "      <td>-0.005930</td>\n",
              "      <td>-0.040313</td>\n",
              "      <td>0.117453</td>\n",
              "      <td>-0.067553</td>\n",
              "      <td>0.045004</td>\n",
              "      <td>0.035735</td>\n",
              "      <td>...</td>\n",
              "      <td>0.004518</td>\n",
              "      <td>0.035248</td>\n",
              "      <td>-0.047345</td>\n",
              "      <td>-0.006539</td>\n",
              "      <td>-0.025633</td>\n",
              "      <td>0.002474</td>\n",
              "      <td>39</td>\n",
              "      <td>29</td>\n",
              "      <td>1</td>\n",
              "      <td>6</td>\n",
              "    </tr>\n",
              "    <tr>\n",
              "      <th>28517</th>\n",
              "      <td>0.019361</td>\n",
              "      <td>0.148111</td>\n",
              "      <td>0.093434</td>\n",
              "      <td>0.011795</td>\n",
              "      <td>-0.074029</td>\n",
              "      <td>-0.077628</td>\n",
              "      <td>0.049933</td>\n",
              "      <td>-0.096354</td>\n",
              "      <td>0.138556</td>\n",
              "      <td>0.130414</td>\n",
              "      <td>...</td>\n",
              "      <td>0.014918</td>\n",
              "      <td>0.015676</td>\n",
              "      <td>-0.033608</td>\n",
              "      <td>0.068212</td>\n",
              "      <td>0.049871</td>\n",
              "      <td>-0.027607</td>\n",
              "      <td>39</td>\n",
              "      <td>29</td>\n",
              "      <td>1</td>\n",
              "      <td>6</td>\n",
              "    </tr>\n",
              "    <tr>\n",
              "      <th>28518</th>\n",
              "      <td>-0.043644</td>\n",
              "      <td>0.084073</td>\n",
              "      <td>0.074749</td>\n",
              "      <td>0.091776</td>\n",
              "      <td>-0.090782</td>\n",
              "      <td>-0.163187</td>\n",
              "      <td>-0.012568</td>\n",
              "      <td>-0.051021</td>\n",
              "      <td>0.038726</td>\n",
              "      <td>0.011009</td>\n",
              "      <td>...</td>\n",
              "      <td>-0.098420</td>\n",
              "      <td>0.113067</td>\n",
              "      <td>0.028218</td>\n",
              "      <td>0.036682</td>\n",
              "      <td>0.030056</td>\n",
              "      <td>-0.084346</td>\n",
              "      <td>39</td>\n",
              "      <td>29</td>\n",
              "      <td>1</td>\n",
              "      <td>6</td>\n",
              "    </tr>\n",
              "    <tr>\n",
              "      <th>28519</th>\n",
              "      <td>-0.039625</td>\n",
              "      <td>0.159638</td>\n",
              "      <td>0.042608</td>\n",
              "      <td>0.046212</td>\n",
              "      <td>-0.025058</td>\n",
              "      <td>-0.143171</td>\n",
              "      <td>0.111391</td>\n",
              "      <td>-0.109869</td>\n",
              "      <td>0.020852</td>\n",
              "      <td>0.152014</td>\n",
              "      <td>...</td>\n",
              "      <td>-0.000068</td>\n",
              "      <td>0.111601</td>\n",
              "      <td>-0.065572</td>\n",
              "      <td>0.155703</td>\n",
              "      <td>-0.016872</td>\n",
              "      <td>-0.020940</td>\n",
              "      <td>39</td>\n",
              "      <td>29</td>\n",
              "      <td>1</td>\n",
              "      <td>6</td>\n",
              "    </tr>\n",
              "  </tbody>\n",
              "</table>\n",
              "<p>28520 rows × 772 columns</p>\n",
              "</div>"
            ],
            "text/plain": [
              "       feature_1  feature_2  feature_3  feature_4  feature_5  feature_6  \\\n",
              "0       0.019301   0.059756   0.081375   0.057481  -0.068440  -0.165913   \n",
              "1       0.049741   0.090030   0.035118  -0.013676  -0.194317  -0.101763   \n",
              "2       0.019212   0.087779   0.093907  -0.033738  -0.141409  -0.062881   \n",
              "3       0.070283   0.049040   0.042126   0.122637  -0.056964  -0.113700   \n",
              "4       0.028864   0.165634   0.016302   0.036117  -0.028871  -0.147748   \n",
              "...          ...        ...        ...        ...        ...        ...   \n",
              "28515  -0.041520   0.302638   0.004811   0.211441  -0.249326  -0.113395   \n",
              "28516  -0.056359   0.061850   0.051865   0.032107  -0.005930  -0.040313   \n",
              "28517   0.019361   0.148111   0.093434   0.011795  -0.074029  -0.077628   \n",
              "28518  -0.043644   0.084073   0.074749   0.091776  -0.090782  -0.163187   \n",
              "28519  -0.039625   0.159638   0.042608   0.046212  -0.025058  -0.143171   \n",
              "\n",
              "       feature_7  feature_8  feature_9  feature_10  ...  feature_763  \\\n",
              "0       0.035643  -0.091138   0.021688    0.057158  ...    -0.035576   \n",
              "1       0.085875  -0.081317   0.112418    0.120523  ...     0.020538   \n",
              "2      -0.071402  -0.006599   0.020372   -0.027777  ...     0.119645   \n",
              "3       0.108454   0.051336   0.086610    0.141578  ...    -0.124494   \n",
              "4       0.053180   0.025071  -0.004200   -0.022183  ...    -0.124862   \n",
              "...          ...        ...        ...         ...  ...          ...   \n",
              "28515  -0.146776  -0.146222  -0.040344   -0.124016  ...     0.290069   \n",
              "28516   0.117453  -0.067553   0.045004    0.035735  ...     0.004518   \n",
              "28517   0.049933  -0.096354   0.138556    0.130414  ...     0.014918   \n",
              "28518  -0.012568  -0.051021   0.038726    0.011009  ...    -0.098420   \n",
              "28519   0.111391  -0.109869   0.020852    0.152014  ...    -0.000068   \n",
              "\n",
              "       feature_764  feature_765  feature_766  feature_767  feature_768  \\\n",
              "0         0.127319     0.098128    -0.058787     0.100971    -0.047754   \n",
              "1         0.058968     0.029803     0.111324     0.036727     0.031927   \n",
              "2        -0.040861     0.000548    -0.061003    -0.042450     0.063340   \n",
              "3        -0.169225    -0.046391     0.148787     0.014616    -0.140644   \n",
              "4         0.044907     0.084005    -0.038450     0.084371    -0.072146   \n",
              "...            ...          ...          ...          ...          ...   \n",
              "28515    -0.223051    -0.053575    -0.230222    -0.451943     0.117817   \n",
              "28516     0.035248    -0.047345    -0.006539    -0.025633     0.002474   \n",
              "28517     0.015676    -0.033608     0.068212     0.049871    -0.027607   \n",
              "28518     0.113067     0.028218     0.036682     0.030056    -0.084346   \n",
              "28519     0.111601    -0.065572     0.155703    -0.016872    -0.020940   \n",
              "\n",
              "       label_1  label_2  label_3  label_4  \n",
              "0           45       27        1        6  \n",
              "1           45       27        1        6  \n",
              "2           45       27        1        6  \n",
              "3           45       27        1        6  \n",
              "4           45       27        1        6  \n",
              "...        ...      ...      ...      ...  \n",
              "28515       39       29        1        6  \n",
              "28516       39       29        1        6  \n",
              "28517       39       29        1        6  \n",
              "28518       39       29        1        6  \n",
              "28519       39       29        1        6  \n",
              "\n",
              "[28520 rows x 772 columns]"
            ]
          },
          "execution_count": 4,
          "metadata": {},
          "output_type": "execute_result"
        }
      ],
      "source": [
        "mean_age = int(train['label_2'].mean())\n",
        "train['label_2'].fillna(mean_age, inplace=True)\n",
        "train['label_2'] = train['label_2'].astype(int)\n",
        "train"
      ]
    },
    {
      "cell_type": "code",
      "execution_count": 5,
      "metadata": {
        "colab": {
          "base_uri": "https://localhost:8080/"
        },
        "id": "2nY5zPP_MuX4",
        "outputId": "e2e4e13b-24b3-40f4-d962-ac6a6bf45dbe"
      },
      "outputs": [
        {
          "data": {
            "text/plain": [
              "feature_1       0\n",
              "feature_2       0\n",
              "feature_3       0\n",
              "feature_4       0\n",
              "feature_5       0\n",
              "               ..\n",
              "feature_768     0\n",
              "label_1         0\n",
              "label_2        14\n",
              "label_3         0\n",
              "label_4         0\n",
              "Length: 772, dtype: int64"
            ]
          },
          "execution_count": 5,
          "metadata": {},
          "output_type": "execute_result"
        }
      ],
      "source": [
        "valid.isnull().sum()"
      ]
    },
    {
      "cell_type": "markdown",
      "metadata": {
        "id": "80ccA6COMuX5"
      },
      "source": [
        "Filling missing values with mean in valid dataset"
      ]
    },
    {
      "cell_type": "code",
      "execution_count": 6,
      "metadata": {
        "colab": {
          "base_uri": "https://localhost:8080/",
          "height": 443
        },
        "id": "Iq6UbagZMuX6",
        "outputId": "52c3fa28-caad-488a-98d0-bcc5861f66de"
      },
      "outputs": [
        {
          "data": {
            "text/html": [
              "<div>\n",
              "<style scoped>\n",
              "    .dataframe tbody tr th:only-of-type {\n",
              "        vertical-align: middle;\n",
              "    }\n",
              "\n",
              "    .dataframe tbody tr th {\n",
              "        vertical-align: top;\n",
              "    }\n",
              "\n",
              "    .dataframe thead th {\n",
              "        text-align: right;\n",
              "    }\n",
              "</style>\n",
              "<table border=\"1\" class=\"dataframe\">\n",
              "  <thead>\n",
              "    <tr style=\"text-align: right;\">\n",
              "      <th></th>\n",
              "      <th>feature_1</th>\n",
              "      <th>feature_2</th>\n",
              "      <th>feature_3</th>\n",
              "      <th>feature_4</th>\n",
              "      <th>feature_5</th>\n",
              "      <th>feature_6</th>\n",
              "      <th>feature_7</th>\n",
              "      <th>feature_8</th>\n",
              "      <th>feature_9</th>\n",
              "      <th>feature_10</th>\n",
              "      <th>...</th>\n",
              "      <th>feature_763</th>\n",
              "      <th>feature_764</th>\n",
              "      <th>feature_765</th>\n",
              "      <th>feature_766</th>\n",
              "      <th>feature_767</th>\n",
              "      <th>feature_768</th>\n",
              "      <th>label_1</th>\n",
              "      <th>label_2</th>\n",
              "      <th>label_3</th>\n",
              "      <th>label_4</th>\n",
              "    </tr>\n",
              "  </thead>\n",
              "  <tbody>\n",
              "    <tr>\n",
              "      <th>0</th>\n",
              "      <td>-0.130454</td>\n",
              "      <td>0.103857</td>\n",
              "      <td>0.130866</td>\n",
              "      <td>-0.036366</td>\n",
              "      <td>-0.152212</td>\n",
              "      <td>-0.072316</td>\n",
              "      <td>-0.041838</td>\n",
              "      <td>-0.019596</td>\n",
              "      <td>0.038727</td>\n",
              "      <td>0.022496</td>\n",
              "      <td>...</td>\n",
              "      <td>0.129246</td>\n",
              "      <td>0.018913</td>\n",
              "      <td>0.013387</td>\n",
              "      <td>-0.054259</td>\n",
              "      <td>0.006282</td>\n",
              "      <td>0.049646</td>\n",
              "      <td>45</td>\n",
              "      <td>27</td>\n",
              "      <td>1</td>\n",
              "      <td>6</td>\n",
              "    </tr>\n",
              "    <tr>\n",
              "      <th>1</th>\n",
              "      <td>0.019179</td>\n",
              "      <td>0.104888</td>\n",
              "      <td>0.079487</td>\n",
              "      <td>0.005187</td>\n",
              "      <td>-0.134111</td>\n",
              "      <td>-0.109271</td>\n",
              "      <td>0.054558</td>\n",
              "      <td>-0.083966</td>\n",
              "      <td>-0.000091</td>\n",
              "      <td>0.083015</td>\n",
              "      <td>...</td>\n",
              "      <td>-0.031823</td>\n",
              "      <td>0.061069</td>\n",
              "      <td>0.036411</td>\n",
              "      <td>0.101357</td>\n",
              "      <td>0.088504</td>\n",
              "      <td>0.008192</td>\n",
              "      <td>45</td>\n",
              "      <td>27</td>\n",
              "      <td>1</td>\n",
              "      <td>6</td>\n",
              "    </tr>\n",
              "    <tr>\n",
              "      <th>2</th>\n",
              "      <td>-0.028485</td>\n",
              "      <td>0.051889</td>\n",
              "      <td>0.033343</td>\n",
              "      <td>-0.029115</td>\n",
              "      <td>-0.091265</td>\n",
              "      <td>-0.038653</td>\n",
              "      <td>0.113460</td>\n",
              "      <td>-0.057983</td>\n",
              "      <td>0.128808</td>\n",
              "      <td>0.062455</td>\n",
              "      <td>...</td>\n",
              "      <td>-0.033106</td>\n",
              "      <td>-0.007366</td>\n",
              "      <td>-0.027673</td>\n",
              "      <td>0.052090</td>\n",
              "      <td>0.044097</td>\n",
              "      <td>0.054422</td>\n",
              "      <td>45</td>\n",
              "      <td>27</td>\n",
              "      <td>1</td>\n",
              "      <td>6</td>\n",
              "    </tr>\n",
              "    <tr>\n",
              "      <th>3</th>\n",
              "      <td>-0.078959</td>\n",
              "      <td>0.082325</td>\n",
              "      <td>0.068852</td>\n",
              "      <td>-0.028885</td>\n",
              "      <td>-0.146059</td>\n",
              "      <td>-0.071453</td>\n",
              "      <td>-0.028955</td>\n",
              "      <td>0.031253</td>\n",
              "      <td>0.034923</td>\n",
              "      <td>0.019338</td>\n",
              "      <td>...</td>\n",
              "      <td>0.164456</td>\n",
              "      <td>-0.025891</td>\n",
              "      <td>0.037993</td>\n",
              "      <td>0.012060</td>\n",
              "      <td>-0.044266</td>\n",
              "      <td>0.045405</td>\n",
              "      <td>45</td>\n",
              "      <td>27</td>\n",
              "      <td>1</td>\n",
              "      <td>6</td>\n",
              "    </tr>\n",
              "    <tr>\n",
              "      <th>4</th>\n",
              "      <td>0.001748</td>\n",
              "      <td>0.050968</td>\n",
              "      <td>-0.034524</td>\n",
              "      <td>0.074153</td>\n",
              "      <td>0.063857</td>\n",
              "      <td>-0.133338</td>\n",
              "      <td>0.102604</td>\n",
              "      <td>-0.031676</td>\n",
              "      <td>0.010629</td>\n",
              "      <td>-0.018684</td>\n",
              "      <td>...</td>\n",
              "      <td>-0.102749</td>\n",
              "      <td>0.022433</td>\n",
              "      <td>0.018421</td>\n",
              "      <td>0.086064</td>\n",
              "      <td>0.075351</td>\n",
              "      <td>-0.067089</td>\n",
              "      <td>45</td>\n",
              "      <td>27</td>\n",
              "      <td>1</td>\n",
              "      <td>6</td>\n",
              "    </tr>\n",
              "    <tr>\n",
              "      <th>...</th>\n",
              "      <td>...</td>\n",
              "      <td>...</td>\n",
              "      <td>...</td>\n",
              "      <td>...</td>\n",
              "      <td>...</td>\n",
              "      <td>...</td>\n",
              "      <td>...</td>\n",
              "      <td>...</td>\n",
              "      <td>...</td>\n",
              "      <td>...</td>\n",
              "      <td>...</td>\n",
              "      <td>...</td>\n",
              "      <td>...</td>\n",
              "      <td>...</td>\n",
              "      <td>...</td>\n",
              "      <td>...</td>\n",
              "      <td>...</td>\n",
              "      <td>...</td>\n",
              "      <td>...</td>\n",
              "      <td>...</td>\n",
              "      <td>...</td>\n",
              "    </tr>\n",
              "    <tr>\n",
              "      <th>745</th>\n",
              "      <td>-0.015146</td>\n",
              "      <td>0.075347</td>\n",
              "      <td>-0.067940</td>\n",
              "      <td>0.018324</td>\n",
              "      <td>-0.009130</td>\n",
              "      <td>-0.078199</td>\n",
              "      <td>0.019046</td>\n",
              "      <td>0.054832</td>\n",
              "      <td>0.057062</td>\n",
              "      <td>-0.041307</td>\n",
              "      <td>...</td>\n",
              "      <td>-0.037656</td>\n",
              "      <td>0.014558</td>\n",
              "      <td>-0.006257</td>\n",
              "      <td>0.114661</td>\n",
              "      <td>-0.020831</td>\n",
              "      <td>0.043870</td>\n",
              "      <td>39</td>\n",
              "      <td>29</td>\n",
              "      <td>1</td>\n",
              "      <td>6</td>\n",
              "    </tr>\n",
              "    <tr>\n",
              "      <th>746</th>\n",
              "      <td>-0.093367</td>\n",
              "      <td>0.090779</td>\n",
              "      <td>-0.014720</td>\n",
              "      <td>0.060278</td>\n",
              "      <td>-0.054997</td>\n",
              "      <td>0.012507</td>\n",
              "      <td>0.138347</td>\n",
              "      <td>0.064434</td>\n",
              "      <td>0.021669</td>\n",
              "      <td>0.038423</td>\n",
              "      <td>...</td>\n",
              "      <td>-0.102469</td>\n",
              "      <td>-0.012509</td>\n",
              "      <td>-0.024472</td>\n",
              "      <td>-0.082420</td>\n",
              "      <td>-0.018768</td>\n",
              "      <td>-0.091912</td>\n",
              "      <td>39</td>\n",
              "      <td>29</td>\n",
              "      <td>1</td>\n",
              "      <td>6</td>\n",
              "    </tr>\n",
              "    <tr>\n",
              "      <th>747</th>\n",
              "      <td>0.036313</td>\n",
              "      <td>0.053569</td>\n",
              "      <td>-0.040507</td>\n",
              "      <td>0.084671</td>\n",
              "      <td>-0.047545</td>\n",
              "      <td>-0.127989</td>\n",
              "      <td>0.048077</td>\n",
              "      <td>0.038251</td>\n",
              "      <td>0.058703</td>\n",
              "      <td>0.012898</td>\n",
              "      <td>...</td>\n",
              "      <td>-0.139285</td>\n",
              "      <td>-0.020544</td>\n",
              "      <td>-0.086482</td>\n",
              "      <td>0.202496</td>\n",
              "      <td>-0.089369</td>\n",
              "      <td>-0.052960</td>\n",
              "      <td>39</td>\n",
              "      <td>29</td>\n",
              "      <td>1</td>\n",
              "      <td>6</td>\n",
              "    </tr>\n",
              "    <tr>\n",
              "      <th>748</th>\n",
              "      <td>0.002803</td>\n",
              "      <td>0.127188</td>\n",
              "      <td>0.091111</td>\n",
              "      <td>-0.024576</td>\n",
              "      <td>-0.044046</td>\n",
              "      <td>-0.065907</td>\n",
              "      <td>-0.019063</td>\n",
              "      <td>-0.062951</td>\n",
              "      <td>0.066077</td>\n",
              "      <td>0.058489</td>\n",
              "      <td>...</td>\n",
              "      <td>0.055279</td>\n",
              "      <td>-0.014534</td>\n",
              "      <td>0.014749</td>\n",
              "      <td>0.017866</td>\n",
              "      <td>-0.008768</td>\n",
              "      <td>-0.017424</td>\n",
              "      <td>39</td>\n",
              "      <td>29</td>\n",
              "      <td>1</td>\n",
              "      <td>6</td>\n",
              "    </tr>\n",
              "    <tr>\n",
              "      <th>749</th>\n",
              "      <td>0.007929</td>\n",
              "      <td>0.087711</td>\n",
              "      <td>0.077855</td>\n",
              "      <td>0.104332</td>\n",
              "      <td>-0.095509</td>\n",
              "      <td>-0.124483</td>\n",
              "      <td>-0.045992</td>\n",
              "      <td>-0.021891</td>\n",
              "      <td>0.083542</td>\n",
              "      <td>-0.006199</td>\n",
              "      <td>...</td>\n",
              "      <td>-0.075926</td>\n",
              "      <td>0.096852</td>\n",
              "      <td>0.014226</td>\n",
              "      <td>-0.003264</td>\n",
              "      <td>0.047408</td>\n",
              "      <td>0.016309</td>\n",
              "      <td>39</td>\n",
              "      <td>29</td>\n",
              "      <td>1</td>\n",
              "      <td>6</td>\n",
              "    </tr>\n",
              "  </tbody>\n",
              "</table>\n",
              "<p>750 rows × 772 columns</p>\n",
              "</div>"
            ],
            "text/plain": [
              "     feature_1  feature_2  feature_3  feature_4  feature_5  feature_6  \\\n",
              "0    -0.130454   0.103857   0.130866  -0.036366  -0.152212  -0.072316   \n",
              "1     0.019179   0.104888   0.079487   0.005187  -0.134111  -0.109271   \n",
              "2    -0.028485   0.051889   0.033343  -0.029115  -0.091265  -0.038653   \n",
              "3    -0.078959   0.082325   0.068852  -0.028885  -0.146059  -0.071453   \n",
              "4     0.001748   0.050968  -0.034524   0.074153   0.063857  -0.133338   \n",
              "..         ...        ...        ...        ...        ...        ...   \n",
              "745  -0.015146   0.075347  -0.067940   0.018324  -0.009130  -0.078199   \n",
              "746  -0.093367   0.090779  -0.014720   0.060278  -0.054997   0.012507   \n",
              "747   0.036313   0.053569  -0.040507   0.084671  -0.047545  -0.127989   \n",
              "748   0.002803   0.127188   0.091111  -0.024576  -0.044046  -0.065907   \n",
              "749   0.007929   0.087711   0.077855   0.104332  -0.095509  -0.124483   \n",
              "\n",
              "     feature_7  feature_8  feature_9  feature_10  ...  feature_763  \\\n",
              "0    -0.041838  -0.019596   0.038727    0.022496  ...     0.129246   \n",
              "1     0.054558  -0.083966  -0.000091    0.083015  ...    -0.031823   \n",
              "2     0.113460  -0.057983   0.128808    0.062455  ...    -0.033106   \n",
              "3    -0.028955   0.031253   0.034923    0.019338  ...     0.164456   \n",
              "4     0.102604  -0.031676   0.010629   -0.018684  ...    -0.102749   \n",
              "..         ...        ...        ...         ...  ...          ...   \n",
              "745   0.019046   0.054832   0.057062   -0.041307  ...    -0.037656   \n",
              "746   0.138347   0.064434   0.021669    0.038423  ...    -0.102469   \n",
              "747   0.048077   0.038251   0.058703    0.012898  ...    -0.139285   \n",
              "748  -0.019063  -0.062951   0.066077    0.058489  ...     0.055279   \n",
              "749  -0.045992  -0.021891   0.083542   -0.006199  ...    -0.075926   \n",
              "\n",
              "     feature_764  feature_765  feature_766  feature_767  feature_768  label_1  \\\n",
              "0       0.018913     0.013387    -0.054259     0.006282     0.049646       45   \n",
              "1       0.061069     0.036411     0.101357     0.088504     0.008192       45   \n",
              "2      -0.007366    -0.027673     0.052090     0.044097     0.054422       45   \n",
              "3      -0.025891     0.037993     0.012060    -0.044266     0.045405       45   \n",
              "4       0.022433     0.018421     0.086064     0.075351    -0.067089       45   \n",
              "..           ...          ...          ...          ...          ...      ...   \n",
              "745     0.014558    -0.006257     0.114661    -0.020831     0.043870       39   \n",
              "746    -0.012509    -0.024472    -0.082420    -0.018768    -0.091912       39   \n",
              "747    -0.020544    -0.086482     0.202496    -0.089369    -0.052960       39   \n",
              "748    -0.014534     0.014749     0.017866    -0.008768    -0.017424       39   \n",
              "749     0.096852     0.014226    -0.003264     0.047408     0.016309       39   \n",
              "\n",
              "     label_2  label_3  label_4  \n",
              "0         27        1        6  \n",
              "1         27        1        6  \n",
              "2         27        1        6  \n",
              "3         27        1        6  \n",
              "4         27        1        6  \n",
              "..       ...      ...      ...  \n",
              "745       29        1        6  \n",
              "746       29        1        6  \n",
              "747       29        1        6  \n",
              "748       29        1        6  \n",
              "749       29        1        6  \n",
              "\n",
              "[750 rows x 772 columns]"
            ]
          },
          "execution_count": 6,
          "metadata": {},
          "output_type": "execute_result"
        }
      ],
      "source": [
        "mean_age = int(train['label_2'].mean())\n",
        "valid['label_2'].fillna(mean_age, inplace=True)\n",
        "valid['label_2'] = valid['label_2'].astype(int)\n",
        "valid"
      ]
    },
    {
      "cell_type": "code",
      "execution_count": 7,
      "metadata": {
        "colab": {
          "base_uri": "https://localhost:8080/"
        },
        "id": "lYogLYASMuX7",
        "outputId": "968c5be5-74c1-42f2-e7bb-62e497285c22"
      },
      "outputs": [
        {
          "data": {
            "text/plain": [
              "feature_1      0\n",
              "feature_2      0\n",
              "feature_3      0\n",
              "feature_4      0\n",
              "feature_5      0\n",
              "              ..\n",
              "feature_768    0\n",
              "label_1        0\n",
              "label_2        0\n",
              "label_3        0\n",
              "label_4        0\n",
              "Length: 772, dtype: int64"
            ]
          },
          "execution_count": 7,
          "metadata": {},
          "output_type": "execute_result"
        }
      ],
      "source": [
        "valid.isnull().sum()"
      ]
    },
    {
      "cell_type": "markdown",
      "metadata": {
        "id": "isoSpj5cSTg4"
      },
      "source": [
        "# **Feature Selection**"
      ]
    },
    {
      "cell_type": "markdown",
      "metadata": {
        "id": "Pq-CC7TxSfWC"
      },
      "source": [
        "## **PCA Dimentionality Reduction**"
      ]
    },
    {
      "cell_type": "code",
      "execution_count": 8,
      "metadata": {
        "id": "rB5z6u46Sejx"
      },
      "outputs": [],
      "source": [
        "from sklearn.decomposition import PCA\n",
        "\n",
        "def performPca(train_input, valid_input,test_input, n_components):\n",
        "    pca = PCA(n_components=n_components)\n",
        "    train_reduced = pca.fit_transform(train_input)\n",
        "    valid_reduced = pca.transform(valid_input)\n",
        "    test_reduced = pca.transform(test_input)\n",
        "    train_reduced_df = pd.DataFrame(train_reduced, columns=[f\"new_feature_{i+1}\" for i in range(train_reduced.shape[1])])\n",
        "    valid_reduced_df = pd.DataFrame(valid_reduced, columns=[f\"new_feature_{i+1}\" for i in range(valid_reduced.shape[1])])\n",
        "    test_reduced_df = pd.DataFrame(test_reduced, columns=[f\"new_feature_{i+1}\" for i in range(test_reduced.shape[1])])\n",
        "\n",
        "\n",
        "    return train_reduced_df, valid_reduced_df,test_reduced_df\n"
      ]
    },
    {
      "cell_type": "markdown",
      "metadata": {
        "id": "mLmJddJKS1Vc"
      },
      "source": [
        "## **Mutual Information Selection**"
      ]
    },
    {
      "cell_type": "code",
      "execution_count": 9,
      "metadata": {
        "id": "kYyS811ZS8RO"
      },
      "outputs": [],
      "source": [
        "from sklearn.feature_selection import mutual_info_classif\n",
        "import matplotlib.pyplot as plt\n",
        "import numpy as np\n",
        "import pandas as pd\n",
        "\n",
        "\n",
        "def plot_mi_scores(features, label, threshold):\n",
        "    mi_scores = mutual_info_classif(features, label)\n",
        "    colors = np.where(mi_scores > threshold, 'b', 'r')\n",
        "    mi_df = pd.DataFrame({'Feature': features.columns, 'MI Score': mi_scores, 'Color': colors})\n",
        "    mi_df = mi_df.sort_values(by='MI Score', ascending=False)\n",
        "    plt.figure(figsize=(20, 8))\n",
        "    bars = plt.bar(mi_df['Feature'], mi_df['MI Score'], color=mi_df['Color'])\n",
        "    plt.xticks(rotation=90)\n",
        "    plt.xlabel('Features')\n",
        "    plt.ylabel('MI Scores')\n",
        "    plt.title('Mutual Information Scores for Features')\n",
        "    plt.legend(handles=[plt.Line2D([0], [0], color='b', lw=4, label='Above Threshold'),\n",
        "                        plt.Line2D([0], [0], color='r', lw=4, label='Below Threshold')])\n",
        "    blue_feature_count = np.sum(mi_df['Color'] == 'b')\n",
        "\n",
        "    plt.show()\n",
        "    return blue_feature_count\n",
        "\n",
        "\n",
        "def miClassification(train_input, train_output, valid_input, test_input, num_features_to_select):\n",
        "    mi_scores = mutual_info_classif(train_input, train_output)\n",
        "    mi_scores = pd.Series(mi_scores, index=train_input.columns)\n",
        "    mi_scores = mi_scores.sort_values(ascending=False)\n",
        "    selected_features_train = mi_scores[:num_features_to_select]\n",
        "    new_train_input = train_input[selected_features_train.index]\n",
        "    new_valid_input = valid_input[selected_features_train.index]\n",
        "    new_test_input = test_input[selected_features_train.index]\n",
        "    return mi_scores , new_train_input , new_valid_input ,new_test_input, selected_features_train\n",
        "\n",
        "\n",
        "# plt.figure(dpi=100, figsize=(8, 5))\n",
        "# plot_mi_scores(mi_scores)"
      ]
    },
    {
      "cell_type": "markdown",
      "metadata": {
        "id": "V9A0QpswTCtX"
      },
      "source": [
        "# **Classification Models**"
      ]
    },
    {
      "cell_type": "markdown",
      "metadata": {
        "id": "bve6u0p2MuX-"
      },
      "source": [
        "## **Random Forest**"
      ]
    },
    {
      "cell_type": "code",
      "execution_count": 10,
      "metadata": {
        "id": "aEhKDuaEPnKB"
      },
      "outputs": [],
      "source": [
        "from sklearn.ensemble import RandomForestClassifier\n",
        "from sklearn.metrics import classification_report\n",
        "\n",
        "def random_forest_classification(train_input, train_output, valid_input, valid_output):\n",
        "    rf_classifier = RandomForestClassifier()\n",
        "    rf_classifier.fit(train_input, train_output)\n",
        "    valid_predictions = rf_classifier.predict(valid_input)\n",
        "    report = classification_report(valid_output, valid_predictions, output_dict=True)\n",
        "    return  valid_predictions , report , rf_classifier\n"
      ]
    },
    {
      "cell_type": "code",
      "execution_count": 11,
      "metadata": {
        "id": "HLN33oe8MuX_"
      },
      "outputs": [],
      "source": [
        "def evaluate_with_f1_score(y_true, y_pred):\n",
        "    report = classification_report(valid_label_1, y_pred, output_dict=True)\n",
        "\n",
        "    # Access the macro-average values\n",
        "    macro_avg_precision = report['macro avg']['precision']\n",
        "    macro_avg_recall = report['macro avg']['recall']\n",
        "    macro_avg_f1_score = report['macro avg']['f1-score']\n",
        "\n",
        "    print(f'Macro-average precision: {macro_avg_precision}')\n",
        "    print(f'Macro-average recall: {macro_avg_recall}')\n",
        "    print(f'Macro-average F1-score: {macro_avg_f1_score}')\n"
      ]
    },
    {
      "cell_type": "markdown",
      "metadata": {
        "id": "AP3OJMGvX8lh"
      },
      "source": [
        "## **SVM Classifier**"
      ]
    },
    {
      "cell_type": "code",
      "execution_count": 12,
      "metadata": {
        "id": "xT5me4ozdHLN"
      },
      "outputs": [],
      "source": [
        "from sklearn.svm import SVC\n",
        "from sklearn.model_selection import train_test_split\n",
        "from sklearn.metrics import accuracy_score, classification_report\n",
        "\n",
        "def train_svm_classifier(train_input, train_output, valid_input, valid_output):\n",
        "\n",
        "    model = SVC()\n",
        "    model.fit(train_input, train_output)\n",
        "    y_pred = model.predict(valid_input)\n",
        "    accuracy = accuracy_score(valid_output, y_pred)\n",
        "    report = classification_report(valid_output, y_pred)\n",
        "\n",
        "    print(\"Model Accuracy: {:.2f}%\".format(accuracy * 100))\n",
        "\n",
        "    return model, y_pred\n"
      ]
    },
    {
      "cell_type": "markdown",
      "metadata": {
        "id": "Tx8jZwTyephm"
      },
      "source": [
        "## **XGBoost Classifier**"
      ]
    },
    {
      "cell_type": "code",
      "execution_count": null,
      "metadata": {
        "id": "80iu7jPRewXB"
      },
      "outputs": [],
      "source": [
        "import xgboost as xgb\n",
        "import torch\n",
        "from sklearn.metrics import accuracy_score, classification_report\n",
        "\n",
        "def train_xgboost_classifier(train_input, train_output, valid_input, valid_output):\n",
        "\n",
        "    xgb_gpu = None\n",
        "    if (torch.cuda.is_available()):\n",
        "      model = xgb.XGBClassifier(\n",
        "          tree_method = 'gpu_hist',\n",
        "          gpu_id = 0,\n",
        "      )\n",
        "    else:\n",
        "      model = xgb.XGBClassifier()\n",
        "\n",
        "\n",
        "\n",
        "\n",
        "    model.fit(train_input, train_output)\n",
        "    y_pred = model.predict(valid_input)\n",
        "\n",
        "    accuracy = accuracy_score(valid_output, y_pred)\n",
        "    report = classification_report(valid_output, y_pred)\n",
        "\n",
        "    print(\"Model Accuracy: {:.2f}%\".format(accuracy * 100))\n",
        "\n",
        "    return model, y_pred\n"
      ]
    },
    {
      "cell_type": "markdown",
      "metadata": {
        "id": "oFWlD9wjMuX7"
      },
      "source": [
        "# **Label 01**"
      ]
    },
    {
      "cell_type": "markdown",
      "metadata": {
        "id": "1BhnyUpbMuX8"
      },
      "source": [
        "Separating features and label 01"
      ]
    },
    {
      "cell_type": "code",
      "execution_count": 14,
      "metadata": {
        "id": "j-dWB2xPMuX8"
      },
      "outputs": [],
      "source": [
        "train_features = train.iloc[:, :768]\n",
        "train_label_1 = train.iloc[:, 768]\n",
        "\n",
        "valid_features = valid.iloc[:, :768]\n",
        "valid_label_1 = valid.iloc[:, 768]\n",
        "\n",
        "test_features = test.iloc[:, :768]"
      ]
    },
    {
      "cell_type": "markdown",
      "metadata": {
        "id": "pZSjv0JakUIn"
      },
      "source": [
        "Accuracy before feature engineering random forest model\n",
        "\n"
      ]
    },
    {
      "cell_type": "code",
      "execution_count": null,
      "metadata": {
        "id": "oRqIejijkZtC"
      },
      "outputs": [],
      "source": [
        "y_pred , report , classifier = random_forest_classification(train_features ,train_label_1 , valid_features , valid_label_1)"
      ]
    },
    {
      "cell_type": "code",
      "execution_count": null,
      "metadata": {
        "id": "6G5UH4t2ld6C"
      },
      "outputs": [],
      "source": [
        "accuracy_score(valid_label_1 , y_pred )"
      ]
    },
    {
      "cell_type": "markdown",
      "metadata": {
        "id": "CxaXVjfjd9uA"
      },
      "source": [
        "Accuracy before feature engineering svm\n"
      ]
    },
    {
      "cell_type": "code",
      "execution_count": null,
      "metadata": {
        "id": "yskTFaWzeBFJ"
      },
      "outputs": [],
      "source": [
        "model ,  y_pred  = train_svm_classifier(train_features ,train_label_1 , valid_features , valid_label_1)"
      ]
    },
    {
      "cell_type": "markdown",
      "metadata": {
        "id": "k1tdDCqjfjn6"
      },
      "source": [
        "Accuracy before feature engineering XGBoost"
      ]
    },
    {
      "cell_type": "code",
      "execution_count": null,
      "metadata": {
        "id": "Jue9pZvCpNK7"
      },
      "outputs": [],
      "source": [
        "from sklearn.preprocessing import LabelEncoder\n",
        "\n",
        "le1 = LabelEncoder()\n",
        "le1.fit(train_label_1)\n"
      ]
    },
    {
      "cell_type": "code",
      "execution_count": null,
      "metadata": {
        "id": "HNEDO9KdnroZ"
      },
      "outputs": [],
      "source": [
        "train_encoded_label_1 = le1.transform(train_label_1)"
      ]
    },
    {
      "cell_type": "code",
      "execution_count": null,
      "metadata": {
        "id": "qwZK3Crj0700"
      },
      "outputs": [],
      "source": [
        "le2 = LabelEncoder()\n",
        "le2.fit(valid_label_1)"
      ]
    },
    {
      "cell_type": "code",
      "execution_count": null,
      "metadata": {
        "id": "7csouPoG1CJw"
      },
      "outputs": [],
      "source": [
        "valid_encoded_label_1 = le2.transform(valid_label_1)\n",
        "valid_encoded_label_1"
      ]
    },
    {
      "cell_type": "code",
      "execution_count": null,
      "metadata": {
        "id": "OBoheAr-1u71"
      },
      "outputs": [],
      "source": [
        "train_xgboost_classifier(train_features ,train_encoded_label_1 , valid_features , valid_encoded_label_1)"
      ]
    },
    {
      "cell_type": "markdown",
      "metadata": {
        "id": "Fw0YGt5z9Ae_"
      },
      "source": [
        "SVM Classifier is choosed because the high accuracy level"
      ]
    },
    {
      "cell_type": "markdown",
      "metadata": {
        "id": "cp1cMrOqDHG_"
      },
      "source": [
        "\n",
        "Plotting the class distribution\n"
      ]
    },
    {
      "cell_type": "code",
      "execution_count": 16,
      "metadata": {
        "id": "CEkUBNoeDMWW"
      },
      "outputs": [
        {
          "data": {
            "image/png": "[encoded data removed]",
            "text/plain": [
              "<Figure size 800x600 with 1 Axes>"
            ]
          },
          "metadata": {},
          "output_type": "display_data"
        }
      ],
      "source": [
        "class_counts = train_label_1.value_counts()\n",
        "plt.figure(figsize=(8, 6))\n",
        "class_counts.plot(kind='bar', color='skyblue')\n",
        "\n",
        "plt.xlabel('Class Label')\n",
        "plt.ylabel('Count')\n",
        "plt.title('Class Distribution')\n",
        "\n",
        "\n",
        "plt.show()\n"
      ]
    },
    {
      "cell_type": "code",
      "execution_count": null,
      "metadata": {
        "id": "KGchcckaMuX8"
      },
      "outputs": [],
      "source": [
        "threshold_array = [0.005, 0.01, 0.05, 0.1, 0.15]\n",
        "remaining_features_count = []\n",
        "\n",
        "for thresh in threshold_array:\n",
        "    var_thres = VarianceThreshold(threshold=thresh)\n",
        "    var_thres.fit(train_features)\n",
        "    remaining_features_count.append(var_thres.get_support().sum())\n",
        "\n",
        "print(remaining_features_count)"
      ]
    },
    {
      "cell_type": "markdown",
      "metadata": {
        "id": "5g7MKPmIMuX9"
      },
      "source": [
        "All most all the features has very low variances."
      ]
    },
    {
      "cell_type": "markdown",
      "metadata": {
        "id": "QVj8fihiMuX9"
      },
      "source": [
        "Feature selection based on mutual information"
      ]
    },
    {
      "cell_type": "code",
      "execution_count": 17,
      "metadata": {
        "id": "YBzrgiRsMuX9"
      },
      "outputs": [
        {
          "data": {
            "image/png": "[encoded data removed]",
            "text/plain": [
              "<Figure size 2000x800 with 1 Axes>"
            ]
          },
          "metadata": {},
          "output_type": "display_data"
        }
      ],
      "source": [
        "feature_count = plot_mi_scores(train_features, train_label_1, threshold=0.07)\n"
      ]
    },
    {
      "cell_type": "code",
      "execution_count": 18,
      "metadata": {
        "id": "REpjLd4DMuX-"
      },
      "outputs": [
        {
          "data": {
            "text/plain": [
              "290"
            ]
          },
          "execution_count": 18,
          "metadata": {},
          "output_type": "execute_result"
        }
      ],
      "source": [
        "feature_count"
      ]
    },
    {
      "cell_type": "code",
      "execution_count": 19,
      "metadata": {
        "id": "yTFC6QYpMuX-"
      },
      "outputs": [],
      "source": [
        "mi_scores , new_train_features , new_valid_features ,new_test_features, selected_features_train = miClassification(train_features, train_label_1, valid_features, test_features, feature_count)"
      ]
    },
    {
      "cell_type": "code",
      "execution_count": 20,
      "metadata": {
        "id": "c_gPf9crP-fF"
      },
      "outputs": [
        {
          "name": "stdout",
          "output_type": "stream",
          "text": [
            "Model Accuracy: 93.33%\n"
          ]
        }
      ],
      "source": [
        "model , y_predict = train_svm_classifier(new_train_features, train_label_1,new_valid_features , valid_label_1)"
      ]
    },
    {
      "cell_type": "markdown",
      "metadata": {
        "id": "ud-kEKEPWflg"
      },
      "source": [
        "# Hyper Parameter Tuning"
      ]
    },
    {
      "cell_type": "code",
      "execution_count": null,
      "metadata": {
        "id": "x-zihNyYWe8_"
      },
      "outputs": [],
      "source": [
        "from sklearn.model_selection import RandomizedSearchCV\n",
        "\n",
        "n_estimators = [100 , 150 , 200 , 250 ]\n",
        "max_features = ['auto', 'sqrt']\n",
        "max_depth = [int(x) for x in np.linspace(10, 110, num = 11)]\n",
        "max_depth.append(None)\n",
        "min_samples_split = [2, 5, 10]\n",
        "min_samples_leaf = [1, 2, 4]\n",
        "bootstrap = [True, False]\n",
        "random_grid = {'n_estimators': n_estimators,\n",
        "               'max_features': max_features,\n",
        "               'max_depth': max_depth,\n",
        "               'min_samples_split': min_samples_split,\n",
        "               'min_samples_leaf': min_samples_leaf,\n",
        "               'bootstrap': bootstrap}\n"
      ]
    },
    {
      "cell_type": "markdown",
      "metadata": {
        "id": "c-mQGAcIPozB"
      },
      "source": [
        "Changing max_depth parameter"
      ]
    },
    {
      "cell_type": "code",
      "execution_count": null,
      "metadata": {
        "id": "vPlAcNkhIqPL"
      },
      "outputs": [],
      "source": [
        "max_depths = [1,5,10,15, 20 ,25]\n",
        "max_depths.append(None)\n",
        "max_depths_1 =  [1,5,10,15, 20 ,25 , \"None\"]\n",
        "train_results = []\n",
        "test_results = []\n",
        "for max_depth in max_depths:\n",
        "   rf = RandomForestClassifier(max_depth=max_depth, n_jobs=-1)\n",
        "   rf.fit(new_train_features, train_label_1)\n",
        "\n",
        "   train_pred = rf.predict(new_train_features)\n",
        "   train_results.append(accuracy_score(train_label_1, train_pred))\n",
        "\n",
        "   y_pred = rf.predict(new_valid_features)\n",
        "   test_results.append(accuracy_score(valid_label_1, y_pred))\n",
        "\n",
        "from matplotlib.legend_handler import HandlerLine2D\n",
        "line1, = plt.plot(max_depths_1, train_results, \"b\", label=\"Train AUC\")\n",
        "line2, = plt.plot(max_depths_1, test_results, \"r\", label=\"Test AUC\")\n",
        "plt.legend(handler_map={line1: HandlerLine2D(numpoints=2)})\n",
        "plt.ylabel(\"Accuracy Score\")\n",
        "plt.xlabel(\"‘Tree depth’\")\n",
        "plt.show()"
      ]
    },
    {
      "cell_type": "markdown",
      "metadata": {
        "id": "nMc2_Y1zPsS8"
      },
      "source": [
        "We can see overfitting senario in higher max_depths. should get tree_depth around values of 1-5"
      ]
    },
    {
      "cell_type": "markdown",
      "metadata": {
        "id": "Lsa0KAepP5Qm"
      },
      "source": [
        "Changing max features param"
      ]
    },
    {
      "cell_type": "code",
      "execution_count": null,
      "metadata": {
        "id": "dJyMeWteP4e6"
      },
      "outputs": [],
      "source": [
        "max_features = [\"sqrt\", \"log2\", None]\n",
        "max_features_1 = [\"sqrt\", \"log2\", \"None\"]\n",
        "train_results = []\n",
        "test_results = []\n",
        "for max_feature in max_features:\n",
        "   rf = RandomForestClassifier(max_features = max_feature, n_jobs=-1)\n",
        "   rf.fit(new_train_features, train_label_1)\n",
        "\n",
        "   train_pred = rf.predict(new_train_features)\n",
        "   train_results.append(accuracy_score(train_label_1, train_pred))\n",
        "\n",
        "   y_pred = rf.predict(new_valid_features)\n",
        "   test_results.append(accuracy_score(valid_label_1, y_pred))\n",
        "\n",
        "from matplotlib.legend_handler import HandlerLine2D\n",
        "line1, = plt.plot(max_features_1, train_results, \"b\", label=\"Train\")\n",
        "line2, = plt.plot(max_features_1, test_results, \"r\", label=\"Test\")\n",
        "plt.legend(handler_map={line1: HandlerLine2D(numpoints=2)})\n",
        "plt.ylabel(\"Accuracy Score\")\n",
        "plt.xlabel(\"Max Features\")\n",
        "plt.show()"
      ]
    },
    {
      "cell_type": "markdown",
      "metadata": {
        "id": "BzkCd_jnzZJq"
      },
      "source": [
        "sqrt parameter is the good one"
      ]
    },
    {
      "cell_type": "markdown",
      "metadata": {
        "id": "vzMFX24eS9fO"
      },
      "source": [
        "Changing min_samples_split parameter"
      ]
    },
    {
      "cell_type": "code",
      "execution_count": null,
      "metadata": {
        "id": "5PxKjv2hPlBr"
      },
      "outputs": [],
      "source": [
        "min_samples_splits= [0.1 , 0.3 , 0.6 , 0.9 , 1.0 ]\n",
        "train_results = []\n",
        "test_results = []\n",
        "for min_split in min_samples_splits:\n",
        "   rf = RandomForestClassifier(min_samples_split = min_split , n_jobs=-1)\n",
        "   rf.fit(new_train_features, train_label_1)\n",
        "\n",
        "   train_pred = rf.predict(new_train_features)\n",
        "   train_results.append(accuracy_score(train_label_1, train_pred))\n",
        "\n",
        "   y_pred = rf.predict(new_valid_features)\n",
        "   test_results.append(accuracy_score(valid_label_1, y_pred))\n",
        "\n",
        "from matplotlib.legend_handler import HandlerLine2D\n",
        "line1, = plt.plot(min_samples_splits, train_results, \"b\", label=\"Train AUC\")\n",
        "line2, = plt.plot(min_samples_splits, test_results, \"r\", label=\"Test AUC\")\n",
        "plt.legend(handler_map={line1: HandlerLine2D(numpoints=2)})\n",
        "plt.ylabel(\"Accuracy Score\")\n",
        "plt.xlabel(\"Min Sample Splits\")\n",
        "plt.show()"
      ]
    },
    {
      "cell_type": "markdown",
      "metadata": {
        "id": "F-oCvDKg1Nxw"
      },
      "source": [
        "cannot really give a conclusion"
      ]
    },
    {
      "cell_type": "markdown",
      "metadata": {
        "id": "dVpu8b-dTeFE"
      },
      "source": [
        "Changing min_samples_leaf parameter"
      ]
    },
    {
      "cell_type": "code",
      "execution_count": null,
      "metadata": {
        "id": "fo9riniYVTtl"
      },
      "outputs": [],
      "source": [
        "min_samples_leafs = np.linspace(0.1, 0.5, 5, endpoint=True)\n",
        "train_results = []\n",
        "test_results = []\n",
        "for min_samples_leaf in min_samples_leafs:\n",
        "   rf = RandomForestClassifier(min_samples_leaf = min_samples_leaf , n_jobs=-1)\n",
        "   rf.fit(new_train_features, train_label_1)\n",
        "\n",
        "   train_pred = rf.predict(new_train_features)\n",
        "   train_results.append(accuracy_score(train_label_1, train_pred))\n",
        "\n",
        "   y_pred = rf.predict(new_valid_features)\n",
        "   test_results.append(accuracy_score(valid_label_1, y_pred))\n",
        "\n",
        "from matplotlib.legend_handler import HandlerLine2D\n",
        "line1, = plt.plot(min_samples_leafs, train_results, \"b\", label=\"Train AUC\")\n",
        "line2, = plt.plot(min_samples_leafs, test_results, \"r\", label=\"Test AUC\")\n",
        "plt.legend(handler_map={line1: HandlerLine2D(numpoints=2)})\n",
        "plt.ylabel(\"Accuracy Score\")\n",
        "plt.xlabel(\"Min Sample Leaf\")\n",
        "plt.show()"
      ]
    },
    {
      "cell_type": "markdown",
      "metadata": {
        "id": "-IKtOIAY1F-2"
      },
      "source": [
        "something around 0.4 will be good"
      ]
    },
    {
      "cell_type": "markdown",
      "metadata": {
        "id": "w8ZhW7L6AeLU"
      },
      "source": [
        "# Hyper Parameter Tuning For SVM Classifier"
      ]
    },
    {
      "cell_type": "code",
      "execution_count": null,
      "metadata": {
        "id": "fQFuMQ1GAdhY"
      },
      "outputs": [],
      "source": [
        "model.get_params()"
      ]
    },
    {
      "cell_type": "code",
      "execution_count": null,
      "metadata": {
        "id": "fmRx2ntGA2YX"
      },
      "outputs": [],
      "source": [
        "from sklearn.model_selection import GridSearchCV\n",
        "param_grid = {'C': [0.1, 1, 10, 100, 1000],\n",
        "              'gamma': [1, 0.1, 0.01, 0.001, 0.0001],\n",
        "              'kernel': ['rbf']}\n",
        "grid = GridSearchCV(SVC(), param_grid, refit = True, verbose = 3)\n",
        "grid.fit(new_train_features, train_label_1)"
      ]
    },
    {
      "cell_type": "markdown",
      "metadata": {
        "id": "_sj4EEQbBBA3"
      },
      "source": [
        "grid.best_params_ are `{'C': 100, 'gamma': 0.1, 'kernel': 'rbf'}`"
      ]
    },
    {
      "cell_type": "code",
      "execution_count": 21,
      "metadata": {
        "id": "A5V98HoTBAdW"
      },
      "outputs": [
        {
          "data": {
            "text/plain": [
              "0.968"
            ]
          },
          "execution_count": 21,
          "metadata": {},
          "output_type": "execute_result"
        }
      ],
      "source": [
        "# measure accuracy using tuned SVC()\n",
        "\n",
        "svc_ = SVC(C= 100, gamma= 0.1, kernel='rbf')\n",
        "svc_.fit(new_train_features, train_label_1)\n",
        "\n",
        "y_pred = svc_.predict(new_valid_features)\n",
        "accuracy_score(valid_label_1, y_pred)"
      ]
    },
    {
      "cell_type": "markdown",
      "metadata": {
        "id": "iCjltWe_Bnkw"
      },
      "source": [
        "Label 01 test predictions"
      ]
    },
    {
      "cell_type": "code",
      "execution_count": 22,
      "metadata": {
        "id": "myZ6vGBPBmuI"
      },
      "outputs": [],
      "source": [
        "test_predictions = svc_.predict(new_test_features)\n",
        "#Write to file\n",
        "test_pred_df = pd.DataFrame(test_predictions, columns=['label_1'])\n",
        "test_pred_df.to_csv('predictions/label_1.csv', index=False)"
      ]
    },
    {
      "cell_type": "markdown",
      "metadata": {
        "id": "Y_KDY3-arjAV"
      },
      "source": [
        "# **Label 02**"
      ]
    },
    {
      "cell_type": "code",
      "execution_count": 23,
      "metadata": {
        "id": "-3VVt2EXrn5a"
      },
      "outputs": [],
      "source": [
        "train_label_2 = train.iloc[:, 769]\n",
        "valid_label_2 = valid.iloc[:, 769]"
      ]
    },
    {
      "cell_type": "markdown",
      "metadata": {
        "id": "JmYPw7ptDUDN"
      },
      "source": [
        "Plotting class distribution"
      ]
    },
    {
      "cell_type": "code",
      "execution_count": 24,
      "metadata": {
        "colab": {
          "base_uri": "https://localhost:8080/",
          "height": 568
        },
        "id": "K6jQ0dd5DWlD",
        "outputId": "9e2167a0-5d1f-45e7-cb9b-3b494c6ddb73"
      },
      "outputs": [
        {
          "data": {
            "image/png": "[encoded data removed]",
            "text/plain": [
              "<Figure size 800x600 with 1 Axes>"
            ]
          },
          "metadata": {},
          "output_type": "display_data"
        }
      ],
      "source": [
        "class_counts = train_label_2.value_counts()\n",
        "plt.figure(figsize=(8, 6))\n",
        "class_counts.plot(kind='bar', color='skyblue')\n",
        "\n",
        "plt.xlabel('Class Label')\n",
        "plt.ylabel('Count')\n",
        "plt.title('Class Distribution')\n",
        "\n",
        "\n",
        "plt.show()"
      ]
    },
    {
      "cell_type": "markdown",
      "metadata": {
        "id": "CGrb1XrjKBED"
      },
      "source": [
        "Accuracy before feature selection or enginnering\n",
        "Random forest model"
      ]
    },
    {
      "cell_type": "code",
      "execution_count": null,
      "metadata": {
        "id": "7ga5qnDnKIp-"
      },
      "outputs": [],
      "source": [
        "valid_predict , report , rf_classifier = random_forest_classification(train_features, train_label_2, valid_features, valid_label_2)"
      ]
    },
    {
      "cell_type": "code",
      "execution_count": null,
      "metadata": {
        "colab": {
          "base_uri": "https://localhost:8080/"
        },
        "id": "Uyy4gfPQLb_h",
        "outputId": "8445b217-7706-49b0-e7bd-e918c1f245c3"
      },
      "outputs": [
        {
          "data": {
            "text/plain": [
              "0.7573333333333333"
            ]
          },
          "execution_count": 32,
          "metadata": {},
          "output_type": "execute_result"
        }
      ],
      "source": [
        "accuracy_score( valid_label_2 , valid_predict)"
      ]
    },
    {
      "cell_type": "markdown",
      "metadata": {
        "id": "NGccG6rqKjB0"
      },
      "source": [
        "Accuracy before feature selection or engineering SVM Classifier"
      ]
    },
    {
      "cell_type": "code",
      "execution_count": null,
      "metadata": {
        "colab": {
          "base_uri": "https://localhost:8080/"
        },
        "id": "SN7pVzlJKApU",
        "outputId": "3239f5dd-ee04-48b3-acbf-ec9d46f9d4e4"
      },
      "outputs": [
        {
          "name": "stdout",
          "output_type": "stream",
          "text": [
            "Model Accuracy: 87.33%\n"
          ]
        }
      ],
      "source": [
        "model ,  y_pred = train_svm_classifier(train_features, train_label_2, valid_features, valid_label_2)"
      ]
    },
    {
      "cell_type": "markdown",
      "metadata": {
        "id": "WmICyHyLKzMC"
      },
      "source": [
        "Accuracy before feature engineering or selection XgBoost"
      ]
    },
    {
      "cell_type": "code",
      "execution_count": null,
      "metadata": {
        "id": "jZcoGQxfK5Up"
      },
      "outputs": [],
      "source": [
        "model , y_pred = train_xgboost_classifier(train_features, train_label_2, valid_features, valid_label_2)"
      ]
    },
    {
      "cell_type": "markdown",
      "metadata": {
        "id": "9CKpooEyScUn"
      },
      "source": [
        "Model accuracy is 85.73%"
      ]
    },
    {
      "cell_type": "markdown",
      "metadata": {
        "id": "6CrZ2A01Hh8J"
      },
      "source": [
        "Model selection with cross validation"
      ]
    },
    {
      "cell_type": "markdown",
      "metadata": {
        "id": "V66Qrh2YglSA"
      },
      "source": [
        "Due to the high level of running time , XGBoost technique was not used"
      ]
    },
    {
      "cell_type": "code",
      "execution_count": null,
      "metadata": {
        "id": "CJqkRV9GHhpN"
      },
      "outputs": [],
      "source": [
        "import numpy as np\n",
        "from sklearn.model_selection import StratifiedKFold\n",
        "from sklearn.metrics import accuracy_score\n",
        "from sklearn.ensemble import RandomForestClassifier\n",
        "from sklearn.svm import SVC\n",
        "\n",
        "\n",
        "\n",
        "classifiers = {\n",
        "    \"Random Forest\": RandomForestClassifier(),\n",
        "    \"SVM\": SVC(),\n",
        "}\n",
        "\n",
        "\n",
        "best_model = None\n",
        "best_accuracy = 0.0\n",
        "\n",
        "\n",
        "n_splits = 5\n",
        "skf = StratifiedKFold(n_splits=n_splits)\n",
        "\n",
        "for name, clf in classifiers.items():\n",
        "    total_accuracy = 0.0\n",
        "\n",
        "    for train_index, test_index in skf.split(train_features, train_label_2):\n",
        "        X_train, X_test = train_features.iloc[train_index], train_features.iloc[test_index]\n",
        "        y_train, y_test = train_label_2[train_index], train_label_2[test_index]\n",
        "\n",
        "        clf.fit(X_train, y_train)\n",
        "        y_pred = clf.predict(X_test)\n",
        "        accuracy = accuracy_score(y_test, y_pred)\n",
        "        total_accuracy += accuracy\n",
        "\n",
        "    average_accuracy = total_accuracy / n_splits\n",
        "    print(f\"{name} - Average Accuracy: {average_accuracy}\")\n",
        "\n",
        "\n",
        "    if average_accuracy > best_accuracy:\n",
        "        best_model = clf\n",
        "        best_accuracy = average_accuracy\n",
        "\n",
        "print(f\"Best Model: {type(best_model).__name__}\")\n",
        "\n"
      ]
    },
    {
      "cell_type": "markdown",
      "metadata": {
        "id": "mhLSoLDxDHTy"
      },
      "source": [
        "Trying PCA Transformation for label 2"
      ]
    },
    {
      "cell_type": "code",
      "execution_count": null,
      "metadata": {
        "id": "j4KLyqM5jdCW"
      },
      "outputs": [],
      "source": [
        "# Before principal component need to scale the features"
      ]
    },
    {
      "cell_type": "code",
      "execution_count": 25,
      "metadata": {
        "id": "35yaCvaSjk7E"
      },
      "outputs": [],
      "source": [
        "from sklearn.preprocessing import RobustScaler\n",
        "transformer = RobustScaler()\n",
        "scaled_train_features = transformer.fit_transform(train_features)\n",
        "scaled_valid_features = transformer.fit_transform(valid_features)\n",
        "scaled_test_features = transformer.fit_transform(test_features)\n"
      ]
    },
    {
      "cell_type": "code",
      "execution_count": null,
      "metadata": {
        "id": "mu_YnBWsqwf2"
      },
      "outputs": [],
      "source": [
        "# from sklearn.preprocessing import MinMaxScaler\n",
        "# scaler = MinMaxScaler()\n",
        "# train_rescaled = scaler.fit_transform(train_features)\n",
        "# valid_rescaled = scaler.fit_transform(valid_features)\n",
        "# test_rescaled = scaler.fit_transform(test_features)"
      ]
    },
    {
      "cell_type": "code",
      "execution_count": 26,
      "metadata": {
        "id": "SNifdCsuC_aV"
      },
      "outputs": [],
      "source": [
        "train_reduced_df, valid_reduced_df,test_reduced_df = performPca(scaled_train_features, scaled_valid_features, scaled_test_features, 0.99)"
      ]
    },
    {
      "cell_type": "code",
      "execution_count": 27,
      "metadata": {
        "colab": {
          "base_uri": "https://localhost:8080/"
        },
        "id": "iKqVQugTrbY3",
        "outputId": "7655c3c0-11fd-4ea7-9821-a587d8c61380"
      },
      "outputs": [
        {
          "name": "stdout",
          "output_type": "stream",
          "text": [
            "Model Accuracy: 91.20%\n"
          ]
        }
      ],
      "source": [
        "model , after_pca_predictions = train_svm_classifier(train_reduced_df, train_label_2 , valid_reduced_df, valid_label_2)"
      ]
    },
    {
      "cell_type": "markdown",
      "metadata": {
        "id": "QRYv9MMq1IbE"
      },
      "source": [
        "1. 0.95  - 90.53%\n",
        "2. 0.99  - 91.20%\n",
        "3. 1     - 15.33%\n",
        "4. 0.995 - 90.93%"
      ]
    },
    {
      "cell_type": "code",
      "execution_count": 28,
      "metadata": {
        "colab": {
          "base_uri": "https://localhost:8080/"
        },
        "id": "HvwsWXC9bH0e",
        "outputId": "6382b735-0b32-42bf-e148-15beb6d5fb84"
      },
      "outputs": [],
      "source": [
        "test_predictions = model.predict(test_reduced_df)\n",
        "\n",
        "#Write to file\n",
        "test_pred_df = pd.DataFrame(test_predictions, columns=['label_2'])\n",
        "test_pred_df.to_csv('predictions/label_2.csv', index=False)"
      ]
    },
    {
      "cell_type": "markdown",
      "metadata": {
        "id": "Bx5bAQcosn88"
      },
      "source": [
        "Hyperparameter Optimization"
      ]
    },
    {
      "cell_type": "code",
      "execution_count": null,
      "metadata": {
        "id": "kzMoYHHWsneG"
      },
      "outputs": [],
      "source": [
        "from sklearn.svm import SVC\n",
        "import time\n",
        "from sklearn.model_selection import train_test_split, StratifiedKFold, cross_val_score, RandomizedSearchCV\n",
        "\n",
        "def hyperparameter_tune(base_model, parameters, n_iter, kfold, X, y):\n",
        "\n",
        "    start_time = time.time()\n",
        "    k = StratifiedKFold(n_splits=kfold, shuffle=False)\n",
        "    optimal_model = RandomizedSearchCV(base_model,\n",
        "                            param_distributions=parameters,\n",
        "                            n_iter=n_iter,\n",
        "                            cv=k,\n",
        "                            n_jobs=-1,\n",
        "                            random_state=42)\n",
        "\n",
        "    optimal_model.fit(X, y)\n",
        "    stop_time = time.time()\n",
        "\n",
        "    scores = cross_val_score(optimal_model, X, y, cv=k, scoring=\"accuracy\")\n",
        "\n",
        "    print(\"Elapsed Time:\", time.strftime(\"%H:%M:%S\", time.gmtime(stop_time - start_time)))\n",
        "    print(\"====================\")\n",
        "    print(\"Cross Val Mean: {:.3f}, Cross Val Stdev: {:.3f}\".format(scores.mean(), scores.std()))\n",
        "    print(\"Best Score: {:.3f}\".format(optimal_model.best_score_))\n",
        "    print(\"Best Parameters: {}\".format(optimal_model.best_params_))\n",
        "\n",
        "    return optimal_model.best_params_, optimal_model.best_score_\n",
        "\n"
      ]
    },
    {
      "cell_type": "code",
      "execution_count": null,
      "metadata": {
        "id": "mNbxVuW_3vjk"
      },
      "outputs": [],
      "source": [
        "# defining parameter range\n",
        "param_grid = {'C': [0.1, 1, 10, 100, 1000],\n",
        "              'gamma': [1, 0.1, 0.01, 0.001, 0.0001],\n",
        "              'kernel': ['rbf' , 'linear' , 'poly']}\n",
        "\n",
        "base_model = SVC()\n",
        "hyperparameter_tune(base_model, param_grid, 5, 5, X=train_reduced_df, y=train_label_2)"
      ]
    }
  ],
  "metadata": {
    "colab": {
      "collapsed_sections": [
        "eRNThtOCMuXz"
      ],
      "provenance": []
    },
    "kernelspec": {
      "display_name": "Python 3",
      "name": "python3"
    },
    "language_info": {
      "codemirror_mode": {
        "name": "ipython",
        "version": 3
      },
      "file_extension": ".py",
      "mimetype": "text/x-python",
      "name": "python",
      "nbconvert_exporter": "python",
      "pygments_lexer": "ipython3",
      "version": "3.11.5"
    },
    "orig_nbformat": 4
  },
  "nbformat": 4,
  "nbformat_minor": 0
}
